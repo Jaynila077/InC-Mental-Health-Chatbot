{
  "cells": [
    {
      "cell_type": "code",
      "execution_count": null,
      "id": "4739e8db-c936-473c-b2be-3cd3022edbdb",
      "metadata": {
        "tags": [],
        "id": "4739e8db-c936-473c-b2be-3cd3022edbdb"
      },
      "outputs": [],
      "source": [
        "import tensorflow as tf\n",
        "import pandas as pd\n",
        "import numpy as np"
      ]
    },
    {
      "cell_type": "code",
      "source": [
        "from google.colab import drive\n",
        "drive.mount('/content/drive')"
      ],
      "metadata": {
        "colab": {
          "base_uri": "https://localhost:8080/"
        },
        "id": "-YrztqP_6eoI",
        "outputId": "92aeebaf-f8b1-499d-bea8-dcfd03ce38b4"
      },
      "id": "-YrztqP_6eoI",
      "execution_count": null,
      "outputs": [
        {
          "output_type": "stream",
          "name": "stdout",
          "text": [
            "Drive already mounted at /content/drive; to attempt to forcibly remount, call drive.mount(\"/content/drive\", force_remount=True).\n"
          ]
        }
      ]
    },
    {
      "cell_type": "code",
      "execution_count": null,
      "id": "7e88a2e9-2094-4fa0-a9a8-ec43a3f23ec0",
      "metadata": {
        "tags": [],
        "id": "7e88a2e9-2094-4fa0-a9a8-ec43a3f23ec0",
        "outputId": "b93dc509-cbcf-4209-cb34-ec0f1ca1d139"
      },
      "outputs": [
        {
          "name": "stdout",
          "output_type": "stream",
          "text": [
            "1 Physical GPUs, 1 Logical GPUs\n"
          ]
        }
      ],
      "source": [
        "gpus = tf.config.experimental.list_physical_devices('GPU')\n",
        "if gpus:\n",
        "    try:\n",
        "        for gpu in gpus:\n",
        "            tf.config.experimental.set_memory_growth(gpu, True)\n",
        "            logical_gpus = tf.config.experimental.list_logical_devices('GPU')\n",
        "            print(len(gpus), \"Physical GPUs,\", len(logical_gpus), \"Logical GPUs\")\n",
        "\n",
        "\n",
        "    except RuntimeError as e:\n",
        "        print(e)\n",
        "\n",
        "\n",
        "\n"
      ]
    },
    {
      "cell_type": "code",
      "execution_count": null,
      "id": "615366f3-f3fc-468e-837b-ee11029d0088",
      "metadata": {
        "tags": [],
        "id": "615366f3-f3fc-468e-837b-ee11029d0088",
        "outputId": "68661cd5-b4ea-48d3-ff30-036c95645d9d"
      },
      "outputs": [
        {
          "name": "stdout",
          "output_type": "stream",
          "text": [
            "GPU 0: NVIDIA GeForce 940MX (UUID: GPU-ffb5177f-d8ce-71bb-2ac1-8bdd43322698)\n"
          ]
        }
      ],
      "source": [
        "!nvidia-smi -L"
      ]
    },
    {
      "cell_type": "markdown",
      "id": "840c4dcb-3e75-4c1e-bf9c-4bcf7d79af9f",
      "metadata": {
        "id": "840c4dcb-3e75-4c1e-bf9c-4bcf7d79af9f"
      },
      "source": [
        "# DATA PREPROCESSING"
      ]
    },
    {
      "cell_type": "code",
      "execution_count": null,
      "id": "1d16ad21-c5cd-4328-ab06-caa18f904968",
      "metadata": {
        "tags": [],
        "id": "1d16ad21-c5cd-4328-ab06-caa18f904968"
      },
      "outputs": [],
      "source": [
        "df_train = pd.read_csv(url_train)"
      ]
    },
    {
      "cell_type": "code",
      "execution_count": null,
      "id": "191f9946-6705-40c0-b9f2-481dd8bb9db1",
      "metadata": {
        "tags": [],
        "id": "191f9946-6705-40c0-b9f2-481dd8bb9db1",
        "outputId": "63d09ee1-8b87-4b05-f727-3b5f744fdc73"
      },
      "outputs": [
        {
          "data": {
            "text/html": [
              "<div>\n",
              "<style scoped>\n",
              "    .dataframe tbody tr th:only-of-type {\n",
              "        vertical-align: middle;\n",
              "    }\n",
              "\n",
              "    .dataframe tbody tr th {\n",
              "        vertical-align: top;\n",
              "    }\n",
              "\n",
              "    .dataframe thead th {\n",
              "        text-align: right;\n",
              "    }\n",
              "</style>\n",
              "<table border=\"1\" class=\"dataframe\">\n",
              "  <thead>\n",
              "    <tr style=\"text-align: right;\">\n",
              "      <th></th>\n",
              "      <th>Unnamed: 0</th>\n",
              "      <th>text</th>\n",
              "      <th>class</th>\n",
              "    </tr>\n",
              "  </thead>\n",
              "  <tbody>\n",
              "    <tr>\n",
              "      <th>0</th>\n",
              "      <td>343589</td>\n",
              "      <td>Need Help Dealing With Sertraline WithdrawalI ...</td>\n",
              "      <td>suicide</td>\n",
              "    </tr>\n",
              "    <tr>\n",
              "      <th>1</th>\n",
              "      <td>182223</td>\n",
              "      <td>Maybe.Maybe if I bleedout ever liter of blood,...</td>\n",
              "      <td>depression</td>\n",
              "    </tr>\n",
              "    <tr>\n",
              "      <th>2</th>\n",
              "      <td>73111</td>\n",
              "      <td>I have become so lonely I'd be happy if someon...</td>\n",
              "      <td>depression</td>\n",
              "    </tr>\n",
              "    <tr>\n",
              "      <th>3</th>\n",
              "      <td>165519</td>\n",
              "      <td>I don't wanna be 18 How am I gonna scare creep...</td>\n",
              "      <td>non-suicide</td>\n",
              "    </tr>\n",
              "    <tr>\n",
              "      <th>4</th>\n",
              "      <td>267706</td>\n",
              "      <td>I seriously want to die because im ugly and aw...</td>\n",
              "      <td>suicide</td>\n",
              "    </tr>\n",
              "    <tr>\n",
              "      <th>...</th>\n",
              "      <td>...</td>\n",
              "      <td>...</td>\n",
              "      <td>...</td>\n",
              "    </tr>\n",
              "    <tr>\n",
              "      <th>222794</th>\n",
              "      <td>82624</td>\n",
              "      <td>I think I just can't do itI have nothing. I sp...</td>\n",
              "      <td>suicide</td>\n",
              "    </tr>\n",
              "    <tr>\n",
              "      <th>222795</th>\n",
              "      <td>117120</td>\n",
              "      <td>to all homophobes🙄‼️ what are u even mad at🤣🤣🤣...</td>\n",
              "      <td>non-suicide</td>\n",
              "    </tr>\n",
              "    <tr>\n",
              "      <th>222796</th>\n",
              "      <td>66951</td>\n",
              "      <td>seattle suicide tomorrowHey guys. I was stayin...</td>\n",
              "      <td>suicide</td>\n",
              "    </tr>\n",
              "    <tr>\n",
              "      <th>222797</th>\n",
              "      <td>125585</td>\n",
              "      <td>I have nothing to live forI really don't. I'm ...</td>\n",
              "      <td>suicide</td>\n",
              "    </tr>\n",
              "    <tr>\n",
              "      <th>222798</th>\n",
              "      <td>320367</td>\n",
              "      <td>I (M18) didn’t plan to live past high schoolI ...</td>\n",
              "      <td>suicide</td>\n",
              "    </tr>\n",
              "  </tbody>\n",
              "</table>\n",
              "<p>222799 rows × 3 columns</p>\n",
              "</div>"
            ],
            "text/plain": [
              "        Unnamed: 0                                               text  \\\n",
              "0           343589  Need Help Dealing With Sertraline WithdrawalI ...   \n",
              "1           182223  Maybe.Maybe if I bleedout ever liter of blood,...   \n",
              "2            73111  I have become so lonely I'd be happy if someon...   \n",
              "3           165519  I don't wanna be 18 How am I gonna scare creep...   \n",
              "4           267706  I seriously want to die because im ugly and aw...   \n",
              "...            ...                                                ...   \n",
              "222794       82624  I think I just can't do itI have nothing. I sp...   \n",
              "222795      117120  to all homophobes🙄‼️ what are u even mad at🤣🤣🤣...   \n",
              "222796       66951  seattle suicide tomorrowHey guys. I was stayin...   \n",
              "222797      125585  I have nothing to live forI really don't. I'm ...   \n",
              "222798      320367  I (M18) didn’t plan to live past high schoolI ...   \n",
              "\n",
              "              class  \n",
              "0           suicide  \n",
              "1        depression  \n",
              "2        depression  \n",
              "3       non-suicide  \n",
              "4           suicide  \n",
              "...             ...  \n",
              "222794      suicide  \n",
              "222795  non-suicide  \n",
              "222796      suicide  \n",
              "222797      suicide  \n",
              "222798      suicide  \n",
              "\n",
              "[222799 rows x 3 columns]"
            ]
          },
          "execution_count": 7,
          "metadata": {},
          "output_type": "execute_result"
        }
      ],
      "source": [
        "df_train"
      ]
    },
    {
      "cell_type": "code",
      "execution_count": null,
      "id": "846741b8-3972-45ff-bcd3-245b21457ea2",
      "metadata": {
        "tags": [],
        "id": "846741b8-3972-45ff-bcd3-245b21457ea2",
        "outputId": "83686dbe-ee4b-4ada-ec71-c70ae4c82c67"
      },
      "outputs": [
        {
          "data": {
            "text/html": [
              "<div>\n",
              "<style scoped>\n",
              "    .dataframe tbody tr th:only-of-type {\n",
              "        vertical-align: middle;\n",
              "    }\n",
              "\n",
              "    .dataframe tbody tr th {\n",
              "        vertical-align: top;\n",
              "    }\n",
              "\n",
              "    .dataframe thead th {\n",
              "        text-align: right;\n",
              "    }\n",
              "</style>\n",
              "<table border=\"1\" class=\"dataframe\">\n",
              "  <thead>\n",
              "    <tr style=\"text-align: right;\">\n",
              "      <th></th>\n",
              "      <th>Unnamed: 0</th>\n",
              "      <th>text</th>\n",
              "      <th>class</th>\n",
              "    </tr>\n",
              "  </thead>\n",
              "  <tbody>\n",
              "    <tr>\n",
              "      <th>0</th>\n",
              "      <td>50414</td>\n",
              "      <td>I cut my thumb and now have a fabric plaster o...</td>\n",
              "      <td>non-suicide</td>\n",
              "    </tr>\n",
              "    <tr>\n",
              "      <th>1</th>\n",
              "      <td>344706</td>\n",
              "      <td>Kinda hot in my roomBut some body warmth would...</td>\n",
              "      <td>depression</td>\n",
              "    </tr>\n",
              "    <tr>\n",
              "      <th>2</th>\n",
              "      <td>49641</td>\n",
              "      <td>Something my ex said that I can't shake.Earlie...</td>\n",
              "      <td>depression</td>\n",
              "    </tr>\n",
              "    <tr>\n",
              "      <th>3</th>\n",
              "      <td>53647</td>\n",
              "      <td>15 and suicidalI've been thinking about this f...</td>\n",
              "      <td>suicide</td>\n",
              "    </tr>\n",
              "    <tr>\n",
              "      <th>4</th>\n",
              "      <td>193976</td>\n",
              "      <td>Hopeless and lostFeeling incredibly hopeless a...</td>\n",
              "      <td>depression</td>\n",
              "    </tr>\n",
              "    <tr>\n",
              "      <th>...</th>\n",
              "      <td>...</td>\n",
              "      <td>...</td>\n",
              "      <td>...</td>\n",
              "    </tr>\n",
              "    <tr>\n",
              "      <th>69620</th>\n",
              "      <td>192645</td>\n",
              "      <td>just want this to endi’m so so so so so tired ...</td>\n",
              "      <td>suicide</td>\n",
              "    </tr>\n",
              "    <tr>\n",
              "      <th>69621</th>\n",
              "      <td>318180</td>\n",
              "      <td>depressed and aloneMy life has been nothing bu...</td>\n",
              "      <td>depression</td>\n",
              "    </tr>\n",
              "    <tr>\n",
              "      <th>69622</th>\n",
              "      <td>104141</td>\n",
              "      <td>Hello SWI'll just dive right in to this.\\n\\nI'...</td>\n",
              "      <td>suicide</td>\n",
              "    </tr>\n",
              "    <tr>\n",
              "      <th>69623</th>\n",
              "      <td>42286</td>\n",
              "      <td>I was having one of my better days, until I sa...</td>\n",
              "      <td>depression</td>\n",
              "    </tr>\n",
              "    <tr>\n",
              "      <th>69624</th>\n",
              "      <td>169274</td>\n",
              "      <td>Relationship Can't Cure Depression but it can ...</td>\n",
              "      <td>depression</td>\n",
              "    </tr>\n",
              "  </tbody>\n",
              "</table>\n",
              "<p>69625 rows × 3 columns</p>\n",
              "</div>"
            ],
            "text/plain": [
              "       Unnamed: 0                                               text  \\\n",
              "0           50414  I cut my thumb and now have a fabric plaster o...   \n",
              "1          344706  Kinda hot in my roomBut some body warmth would...   \n",
              "2           49641  Something my ex said that I can't shake.Earlie...   \n",
              "3           53647  15 and suicidalI've been thinking about this f...   \n",
              "4          193976  Hopeless and lostFeeling incredibly hopeless a...   \n",
              "...           ...                                                ...   \n",
              "69620      192645  just want this to endi’m so so so so so tired ...   \n",
              "69621      318180  depressed and aloneMy life has been nothing bu...   \n",
              "69622      104141  Hello SWI'll just dive right in to this.\\n\\nI'...   \n",
              "69623       42286  I was having one of my better days, until I sa...   \n",
              "69624      169274  Relationship Can't Cure Depression but it can ...   \n",
              "\n",
              "             class  \n",
              "0      non-suicide  \n",
              "1       depression  \n",
              "2       depression  \n",
              "3          suicide  \n",
              "4       depression  \n",
              "...            ...  \n",
              "69620      suicide  \n",
              "69621   depression  \n",
              "69622      suicide  \n",
              "69623   depression  \n",
              "69624   depression  \n",
              "\n",
              "[69625 rows x 3 columns]"
            ]
          },
          "execution_count": 8,
          "metadata": {},
          "output_type": "execute_result"
        }
      ],
      "source": [
        "df_test = pd.read_csv('test.csv')\n",
        "df_test"
      ]
    },
    {
      "cell_type": "code",
      "execution_count": null,
      "id": "b6384ee1-974a-4636-9ff3-6b0b9013d0fb",
      "metadata": {
        "tags": [],
        "id": "b6384ee1-974a-4636-9ff3-6b0b9013d0fb",
        "outputId": "a0e25a4d-4d03-46ec-e3eb-923e152975d3"
      },
      "outputs": [
        {
          "data": {
            "text/html": [
              "<div>\n",
              "<style scoped>\n",
              "    .dataframe tbody tr th:only-of-type {\n",
              "        vertical-align: middle;\n",
              "    }\n",
              "\n",
              "    .dataframe tbody tr th {\n",
              "        vertical-align: top;\n",
              "    }\n",
              "\n",
              "    .dataframe thead th {\n",
              "        text-align: right;\n",
              "    }\n",
              "</style>\n",
              "<table border=\"1\" class=\"dataframe\">\n",
              "  <thead>\n",
              "    <tr style=\"text-align: right;\">\n",
              "      <th></th>\n",
              "      <th>Unnamed: 0</th>\n",
              "      <th>text</th>\n",
              "      <th>class</th>\n",
              "    </tr>\n",
              "  </thead>\n",
              "  <tbody>\n",
              "    <tr>\n",
              "      <th>0</th>\n",
              "      <td>32399</td>\n",
              "      <td>I’ve been feeling down Is it ok to feel this w...</td>\n",
              "      <td>non-suicide</td>\n",
              "    </tr>\n",
              "    <tr>\n",
              "      <th>1</th>\n",
              "      <td>256078</td>\n",
              "      <td>Feminism is a bad name It should be called equ...</td>\n",
              "      <td>non-suicide</td>\n",
              "    </tr>\n",
              "    <tr>\n",
              "      <th>2</th>\n",
              "      <td>113421</td>\n",
              "      <td>Feeling uselessEvery time my life starts impro...</td>\n",
              "      <td>suicide</td>\n",
              "    </tr>\n",
              "    <tr>\n",
              "      <th>3</th>\n",
              "      <td>102597</td>\n",
              "      <td>What's the point?When doing anything this is t...</td>\n",
              "      <td>depression</td>\n",
              "    </tr>\n",
              "    <tr>\n",
              "      <th>4</th>\n",
              "      <td>58266</td>\n",
              "      <td>So it begins. Stay strong out there, and good ...</td>\n",
              "      <td>non-suicide</td>\n",
              "    </tr>\n",
              "    <tr>\n",
              "      <th>...</th>\n",
              "      <td>...</td>\n",
              "      <td>...</td>\n",
              "      <td>...</td>\n",
              "    </tr>\n",
              "    <tr>\n",
              "      <th>55695</th>\n",
              "      <td>75858</td>\n",
              "      <td>Please please please please please please plea...</td>\n",
              "      <td>suicide</td>\n",
              "    </tr>\n",
              "    <tr>\n",
              "      <th>55696</th>\n",
              "      <td>126122</td>\n",
              "      <td>Tell the person above me that they are very co...</td>\n",
              "      <td>non-suicide</td>\n",
              "    </tr>\n",
              "    <tr>\n",
              "      <th>55697</th>\n",
              "      <td>43485</td>\n",
              "      <td>Medication and therapy don't help.Meditating d...</td>\n",
              "      <td>depression</td>\n",
              "    </tr>\n",
              "    <tr>\n",
              "      <th>55698</th>\n",
              "      <td>138463</td>\n",
              "      <td>I’m aloneI went to my school dance last night ...</td>\n",
              "      <td>suicide</td>\n",
              "    </tr>\n",
              "    <tr>\n",
              "      <th>55699</th>\n",
              "      <td>182167</td>\n",
              "      <td>I wrote this poem while in a deep depression. ...</td>\n",
              "      <td>depression</td>\n",
              "    </tr>\n",
              "  </tbody>\n",
              "</table>\n",
              "<p>55700 rows × 3 columns</p>\n",
              "</div>"
            ],
            "text/plain": [
              "       Unnamed: 0                                               text  \\\n",
              "0           32399  I’ve been feeling down Is it ok to feel this w...   \n",
              "1          256078  Feminism is a bad name It should be called equ...   \n",
              "2          113421  Feeling uselessEvery time my life starts impro...   \n",
              "3          102597  What's the point?When doing anything this is t...   \n",
              "4           58266  So it begins. Stay strong out there, and good ...   \n",
              "...           ...                                                ...   \n",
              "55695       75858  Please please please please please please plea...   \n",
              "55696      126122  Tell the person above me that they are very co...   \n",
              "55697       43485  Medication and therapy don't help.Meditating d...   \n",
              "55698      138463  I’m aloneI went to my school dance last night ...   \n",
              "55699      182167  I wrote this poem while in a deep depression. ...   \n",
              "\n",
              "             class  \n",
              "0      non-suicide  \n",
              "1      non-suicide  \n",
              "2          suicide  \n",
              "3       depression  \n",
              "4      non-suicide  \n",
              "...            ...  \n",
              "55695      suicide  \n",
              "55696  non-suicide  \n",
              "55697   depression  \n",
              "55698      suicide  \n",
              "55699   depression  \n",
              "\n",
              "[55700 rows x 3 columns]"
            ]
          },
          "execution_count": 9,
          "metadata": {},
          "output_type": "execute_result"
        }
      ],
      "source": [
        "df_val = pd.read_csv('val.csv')\n",
        "df_val"
      ]
    },
    {
      "cell_type": "code",
      "execution_count": null,
      "id": "ec62992b-3b7d-434f-b8d2-361943d8349d",
      "metadata": {
        "tags": [],
        "id": "ec62992b-3b7d-434f-b8d2-361943d8349d"
      },
      "outputs": [],
      "source": [
        "df_train = df_train.drop(['Unnamed: 0'],axis=1)\n",
        "df_test = df_test.drop(['Unnamed: 0'],axis=1)\n",
        "df_val = df_val.drop(['Unnamed: 0'],axis=1)"
      ]
    },
    {
      "cell_type": "code",
      "execution_count": null,
      "id": "5cc8326a-341a-495e-b0c8-d4227affb05d",
      "metadata": {
        "tags": [],
        "id": "5cc8326a-341a-495e-b0c8-d4227affb05d"
      },
      "outputs": [],
      "source": [
        "df_train.rename(columns = {'class':'sentiment'}, inplace = True)\n",
        "df_test.rename(columns = {'class':'sentiment'}, inplace = True)\n",
        "df_val.rename(columns = {'class':'sentiment'}, inplace = True)"
      ]
    },
    {
      "cell_type": "markdown",
      "id": "ae01752d-3cab-4e15-afe8-a85924c3181c",
      "metadata": {
        "id": "ae01752d-3cab-4e15-afe8-a85924c3181c"
      },
      "source": [
        "## Assesment of the data"
      ]
    },
    {
      "cell_type": "markdown",
      "id": "afc8baef-1255-41cb-ad81-662441f4f7cd",
      "metadata": {
        "id": "afc8baef-1255-41cb-ad81-662441f4f7cd"
      },
      "source": [
        "### Training"
      ]
    },
    {
      "cell_type": "code",
      "execution_count": null,
      "id": "204f80d3-52b3-4abf-9e64-f1c1ac7077b1",
      "metadata": {
        "tags": [],
        "id": "204f80d3-52b3-4abf-9e64-f1c1ac7077b1",
        "outputId": "0220aec7-7631-447f-b62f-8bb1b5598fdd"
      },
      "outputs": [
        {
          "data": {
            "text/plain": [
              "sentiment\n",
              "depression     74280\n",
              "suicide        74264\n",
              "non-suicide    74248\n",
              "Name: count, dtype: int64"
            ]
          },
          "execution_count": 12,
          "metadata": {},
          "output_type": "execute_result"
        }
      ],
      "source": [
        "df_train.sentiment.value_counts()"
      ]
    },
    {
      "cell_type": "code",
      "execution_count": null,
      "id": "b07236dc-772a-4b53-a5c3-b00850a17574",
      "metadata": {
        "tags": [],
        "id": "b07236dc-772a-4b53-a5c3-b00850a17574",
        "outputId": "6e325696-d710-43f9-fee9-20059668b3ea"
      },
      "outputs": [
        {
          "data": {
            "text/plain": [
              "sentiment\n",
              "depression     33.339467\n",
              "suicide        33.332286\n",
              "non-suicide    33.325105\n",
              "Name: count, dtype: float64"
            ]
          },
          "execution_count": 13,
          "metadata": {},
          "output_type": "execute_result"
        }
      ],
      "source": [
        "df_train.sentiment.value_counts() / df_train.shape[0] *100"
      ]
    },
    {
      "cell_type": "code",
      "execution_count": null,
      "id": "49e4f710-87b9-495f-8899-a37d3c4ec7bc",
      "metadata": {
        "tags": [],
        "id": "49e4f710-87b9-495f-8899-a37d3c4ec7bc",
        "outputId": "75b716ed-9bf5-4bf8-ddb4-94cc3f0f72f1"
      },
      "outputs": [
        {
          "data": {
            "image/png": "[encoded data removed]",
            "text/plain": [
              "<Figure size 600x300 with 1 Axes>"
            ]
          },
          "metadata": {},
          "output_type": "display_data"
        }
      ],
      "source": [
        "from matplotlib import pyplot as plt\n",
        "import seaborn as sns\n",
        "plt.figure(figsize=(6,3))\n",
        "sns.countplot(x='sentiment', data=df_train);"
      ]
    },
    {
      "cell_type": "code",
      "execution_count": null,
      "id": "fa197802-53ba-4ac6-83ac-eec2ae884768",
      "metadata": {
        "tags": [],
        "id": "fa197802-53ba-4ac6-83ac-eec2ae884768",
        "outputId": "a7d8ce88-5f8f-4cd9-c029-6804b86ccf11"
      },
      "outputs": [
        {
          "data": {
            "text/plain": [
              "text         1\n",
              "sentiment    7\n",
              "dtype: int64"
            ]
          },
          "execution_count": 15,
          "metadata": {},
          "output_type": "execute_result"
        }
      ],
      "source": [
        "df_train.isnull().sum()"
      ]
    },
    {
      "cell_type": "code",
      "execution_count": null,
      "id": "8dcb44a3-6162-42b6-8010-55703506aa66",
      "metadata": {
        "tags": [],
        "id": "8dcb44a3-6162-42b6-8010-55703506aa66"
      },
      "outputs": [],
      "source": [
        "df_train.fillna('non-suicide' , inplace=True)"
      ]
    },
    {
      "cell_type": "code",
      "execution_count": null,
      "id": "3d9a9c54-be39-4832-bc32-50930446583c",
      "metadata": {
        "tags": [],
        "id": "3d9a9c54-be39-4832-bc32-50930446583c",
        "outputId": "dc0be7a9-b824-445c-c371-cf1bdf3f4949"
      },
      "outputs": [
        {
          "data": {
            "text/plain": [
              "0"
            ]
          },
          "execution_count": 17,
          "metadata": {},
          "output_type": "execute_result"
        }
      ],
      "source": [
        "df_train.duplicated().sum()"
      ]
    },
    {
      "cell_type": "code",
      "execution_count": null,
      "id": "5e5249e1-dc83-4ea2-8709-3b0d30618db6",
      "metadata": {
        "tags": [],
        "id": "5e5249e1-dc83-4ea2-8709-3b0d30618db6"
      },
      "outputs": [],
      "source": [
        "index = df_train[df_train.duplicated() == True].index\n",
        "df_train.drop(index, axis = 0, inplace = True)\n",
        "df_train.reset_index(inplace=True, drop = True)"
      ]
    },
    {
      "cell_type": "code",
      "execution_count": null,
      "id": "745cf4a1-53be-47b7-ac82-2a492573d86d",
      "metadata": {
        "tags": [],
        "id": "745cf4a1-53be-47b7-ac82-2a492573d86d",
        "outputId": "a377368e-9f25-4291-d546-b4dae2061aad"
      },
      "outputs": [
        {
          "data": {
            "text/html": [
              "<div>\n",
              "<style scoped>\n",
              "    .dataframe tbody tr th:only-of-type {\n",
              "        vertical-align: middle;\n",
              "    }\n",
              "\n",
              "    .dataframe tbody tr th {\n",
              "        vertical-align: top;\n",
              "    }\n",
              "\n",
              "    .dataframe thead th {\n",
              "        text-align: right;\n",
              "    }\n",
              "</style>\n",
              "<table border=\"1\" class=\"dataframe\">\n",
              "  <thead>\n",
              "    <tr style=\"text-align: right;\">\n",
              "      <th></th>\n",
              "      <th>text</th>\n",
              "      <th>sentiment</th>\n",
              "    </tr>\n",
              "  </thead>\n",
              "  <tbody>\n",
              "  </tbody>\n",
              "</table>\n",
              "</div>"
            ],
            "text/plain": [
              "Empty DataFrame\n",
              "Columns: [text, sentiment]\n",
              "Index: []"
            ]
          },
          "execution_count": 19,
          "metadata": {},
          "output_type": "execute_result"
        }
      ],
      "source": [
        "df_train[df_train['text'].duplicated() == True]"
      ]
    },
    {
      "cell_type": "code",
      "execution_count": null,
      "id": "b1abe6ec-5fc3-4d0d-8533-f2eb83e4de0f",
      "metadata": {
        "tags": [],
        "id": "b1abe6ec-5fc3-4d0d-8533-f2eb83e4de0f"
      },
      "outputs": [],
      "source": [
        "index = df_train[df_train['text'].duplicated() == True].index\n",
        "df_train.drop(index, axis = 0, inplace = True)\n",
        "df_train.reset_index(inplace=True, drop = True)"
      ]
    },
    {
      "cell_type": "code",
      "execution_count": null,
      "id": "bb651637-b6c0-4b4a-8f2c-1ad0a96bfdb2",
      "metadata": {
        "tags": [],
        "id": "bb651637-b6c0-4b4a-8f2c-1ad0a96bfdb2",
        "outputId": "9ccb21a4-af93-4bb6-dfa1-61ab60f03e8a"
      },
      "outputs": [
        {
          "data": {
            "text/plain": [
              "0"
            ]
          },
          "execution_count": 21,
          "metadata": {},
          "output_type": "execute_result"
        }
      ],
      "source": [
        "df_train.duplicated().sum()"
      ]
    },
    {
      "cell_type": "code",
      "execution_count": null,
      "id": "9e0a1ee8-03f8-40dc-b5bb-5c6cfa4ab83f",
      "metadata": {
        "tags": [],
        "id": "9e0a1ee8-03f8-40dc-b5bb-5c6cfa4ab83f",
        "outputId": "be566ad5-fa31-416b-9476-2eb4b4fea2d7"
      },
      "outputs": [
        {
          "name": "stderr",
          "output_type": "stream",
          "text": [
            "[nltk_data] Downloading package stopwords to /home/jay/nltk_data...\n",
            "[nltk_data]   Package stopwords is already up-to-date!\n"
          ]
        }
      ],
      "source": [
        "import nltk\n",
        "from nltk.corpus import stopwords\n",
        "from nltk.stem import SnowballStemmer, WordNetLemmatizer\n",
        "\n",
        "nltk.download('stopwords')\n",
        "stop_words = set(stopwords.words(\"english\"))\n",
        "lemmatizer= WordNetLemmatizer()"
      ]
    },
    {
      "cell_type": "code",
      "execution_count": null,
      "id": "ea5171ef-0b42-4936-ab3e-d31ef6720334",
      "metadata": {
        "tags": [],
        "id": "ea5171ef-0b42-4936-ab3e-d31ef6720334",
        "outputId": "910f2a36-f2de-4e9e-b6f8-1f9164ff485f"
      },
      "outputs": [
        {
          "data": {
            "text/plain": [
              "stop_words\n",
              "6      6430\n",
              "7      6302\n",
              "5      6210\n",
              "8      6108\n",
              "9      5918\n",
              "       ... \n",
              "121       2\n",
              "120       2\n",
              "122       1\n",
              "115       1\n",
              "123       1\n",
              "Name: count, Length: 123, dtype: int64"
            ]
          },
          "execution_count": 23,
          "metadata": {},
          "output_type": "execute_result"
        }
      ],
      "source": [
        "temp =df_train.copy()\n",
        "stop_words = set(stopwords.words(\"english\"))\n",
        "temp['stop_words'] = temp['text'].apply(lambda x: len(set(x.split()) & set(stop_words)))\n",
        "temp.stop_words.value_counts()"
      ]
    },
    {
      "cell_type": "markdown",
      "id": "a09e3ca5-617d-4ac7-86ae-b017d4c96bb6",
      "metadata": {
        "id": "a09e3ca5-617d-4ac7-86ae-b017d4c96bb6"
      },
      "source": [
        "### Test Set"
      ]
    },
    {
      "cell_type": "code",
      "execution_count": null,
      "id": "47df0e89-5b20-44a9-a919-77d42f8431c3",
      "metadata": {
        "tags": [],
        "id": "47df0e89-5b20-44a9-a919-77d42f8431c3",
        "outputId": "dbe6be2f-0ebf-431e-944f-264cb78d4ce1"
      },
      "outputs": [
        {
          "data": {
            "text/plain": [
              "sentiment\n",
              "non-suicide    23277\n",
              "depression     23207\n",
              "suicide        23137\n",
              "Name: count, dtype: int64"
            ]
          },
          "execution_count": 24,
          "metadata": {},
          "output_type": "execute_result"
        }
      ],
      "source": [
        "df_test.sentiment.value_counts()"
      ]
    },
    {
      "cell_type": "code",
      "execution_count": null,
      "id": "685b9e93-ab7f-4ee4-993e-95140e3cb70f",
      "metadata": {
        "tags": [],
        "id": "685b9e93-ab7f-4ee4-993e-95140e3cb70f",
        "outputId": "52e5d7ad-9500-4bf2-a3e5-2a2df647ea04"
      },
      "outputs": [
        {
          "data": {
            "image/png": "[encoded data removed]",
            "text/plain": [
              "<Figure size 600x300 with 1 Axes>"
            ]
          },
          "metadata": {},
          "output_type": "display_data"
        }
      ],
      "source": [
        "plt.figure(figsize=(6,3))\n",
        "sns.countplot(x='sentiment', data=df_test);"
      ]
    },
    {
      "cell_type": "code",
      "execution_count": null,
      "id": "fb432dd9-cf60-437a-b20f-08540d8bb4f7",
      "metadata": {
        "tags": [],
        "id": "fb432dd9-cf60-437a-b20f-08540d8bb4f7",
        "outputId": "9aee824e-71d6-4aed-f782-392d1b10fd4e"
      },
      "outputs": [
        {
          "data": {
            "text/plain": [
              "text         0\n",
              "sentiment    4\n",
              "dtype: int64"
            ]
          },
          "execution_count": 26,
          "metadata": {},
          "output_type": "execute_result"
        }
      ],
      "source": [
        "df_test.isnull().sum()"
      ]
    },
    {
      "cell_type": "code",
      "execution_count": null,
      "id": "66b4c930-6690-4703-9155-76509154cc5e",
      "metadata": {
        "tags": [],
        "id": "66b4c930-6690-4703-9155-76509154cc5e"
      },
      "outputs": [],
      "source": [
        "df_test.fillna('non-suicide' , inplace=True)"
      ]
    },
    {
      "cell_type": "code",
      "execution_count": null,
      "id": "e17cba12-8048-4014-9c12-e52fee202776",
      "metadata": {
        "tags": [],
        "id": "e17cba12-8048-4014-9c12-e52fee202776",
        "outputId": "16a690bf-7b98-4e57-a921-3a99c7e1d500"
      },
      "outputs": [
        {
          "data": {
            "text/plain": [
              "0"
            ]
          },
          "execution_count": 28,
          "metadata": {},
          "output_type": "execute_result"
        }
      ],
      "source": [
        "df_test.duplicated().sum()"
      ]
    },
    {
      "cell_type": "code",
      "execution_count": null,
      "id": "fdb663ca-4ca9-49bf-953b-b987346be9dd",
      "metadata": {
        "tags": [],
        "id": "fdb663ca-4ca9-49bf-953b-b987346be9dd",
        "outputId": "1f10c486-ecda-4f87-c36c-d7167188552b"
      },
      "outputs": [
        {
          "data": {
            "text/plain": [
              "stop_words\n",
              "6      2056\n",
              "7      2033\n",
              "5      1969\n",
              "8      1908\n",
              "4      1847\n",
              "       ... \n",
              "117       2\n",
              "113       2\n",
              "115       1\n",
              "119       1\n",
              "114       1\n",
              "Name: count, Length: 118, dtype: int64"
            ]
          },
          "execution_count": 29,
          "metadata": {},
          "output_type": "execute_result"
        }
      ],
      "source": [
        "temp =df_test.copy()\n",
        "temp['stop_words'] = temp['text'].apply(lambda x: len(set(x.split()) & set(stop_words)))\n",
        "temp.stop_words.value_counts()"
      ]
    },
    {
      "cell_type": "markdown",
      "id": "b95f78db-2f97-415c-9d05-7697097345f0",
      "metadata": {
        "id": "b95f78db-2f97-415c-9d05-7697097345f0"
      },
      "source": [
        "### Validation set"
      ]
    },
    {
      "cell_type": "code",
      "execution_count": null,
      "id": "fe714577-5761-4786-9653-4704a1f5bb71",
      "metadata": {
        "tags": [],
        "id": "fe714577-5761-4786-9653-4704a1f5bb71",
        "outputId": "47322885-9a7c-41eb-ed98-5c1070a7df60"
      },
      "outputs": [
        {
          "data": {
            "text/plain": [
              "sentiment\n",
              "suicide        18636\n",
              "depression     18549\n",
              "non-suicide    18512\n",
              "Name: count, dtype: int64"
            ]
          },
          "execution_count": 30,
          "metadata": {},
          "output_type": "execute_result"
        }
      ],
      "source": [
        "df_val.sentiment.value_counts()"
      ]
    },
    {
      "cell_type": "code",
      "execution_count": null,
      "id": "0cee5b76-4bdc-4dc1-9a2d-449485655179",
      "metadata": {
        "tags": [],
        "id": "0cee5b76-4bdc-4dc1-9a2d-449485655179",
        "outputId": "e49a981b-0709-4ee9-ba62-ed1655fa57e5"
      },
      "outputs": [
        {
          "data": {
            "image/png": "[encoded data removed]",
            "text/plain": [
              "<Figure size 600x300 with 1 Axes>"
            ]
          },
          "metadata": {},
          "output_type": "display_data"
        }
      ],
      "source": [
        "plt.figure(figsize=(6,3))\n",
        "sns.countplot(x='sentiment', data=df_val);"
      ]
    },
    {
      "cell_type": "code",
      "execution_count": null,
      "id": "1d7054d7-a3f6-447e-a487-4cf6ad1dce70",
      "metadata": {
        "tags": [],
        "id": "1d7054d7-a3f6-447e-a487-4cf6ad1dce70",
        "outputId": "612170c7-196a-412c-f3ee-bf01b73a99be"
      },
      "outputs": [
        {
          "data": {
            "text/plain": [
              "text         0\n",
              "sentiment    3\n",
              "dtype: int64"
            ]
          },
          "execution_count": 32,
          "metadata": {},
          "output_type": "execute_result"
        }
      ],
      "source": [
        "df_val.isnull().sum()"
      ]
    },
    {
      "cell_type": "code",
      "execution_count": null,
      "id": "b62a920a-29cd-4d0c-8a02-d1e06d346ef5",
      "metadata": {
        "tags": [],
        "id": "b62a920a-29cd-4d0c-8a02-d1e06d346ef5"
      },
      "outputs": [],
      "source": [
        "df_val.fillna('non-suicide' , inplace=True)"
      ]
    },
    {
      "cell_type": "code",
      "execution_count": null,
      "id": "4d41e2e6-87f6-4c91-8f31-6ce4c317ea47",
      "metadata": {
        "tags": [],
        "id": "4d41e2e6-87f6-4c91-8f31-6ce4c317ea47",
        "outputId": "31ad6a23-cbbe-443b-9689-3413556e0a1b"
      },
      "outputs": [
        {
          "data": {
            "text/plain": [
              "0"
            ]
          },
          "execution_count": 34,
          "metadata": {},
          "output_type": "execute_result"
        }
      ],
      "source": [
        "df_val.duplicated().sum()"
      ]
    },
    {
      "cell_type": "code",
      "execution_count": null,
      "id": "18363bb0-5ebc-4609-9845-a65b4c91d5ef",
      "metadata": {
        "tags": [],
        "id": "18363bb0-5ebc-4609-9845-a65b4c91d5ef",
        "outputId": "d650f56a-f90a-4eeb-e914-92ebf7a1e2a5"
      },
      "outputs": [
        {
          "data": {
            "text/plain": [
              "stop_words\n",
              "0    55700\n",
              "Name: count, dtype: int64"
            ]
          },
          "execution_count": 35,
          "metadata": {},
          "output_type": "execute_result"
        }
      ],
      "source": [
        "temp =df_val.copy()\n",
        "temp['stop_words'] = temp['sentiment'].apply(lambda x: len(set(x.split()) & set(stop_words)))\n",
        "temp.stop_words.value_counts()"
      ]
    },
    {
      "cell_type": "code",
      "execution_count": null,
      "id": "36fdff62-eaad-4fde-8994-d7dc912dfd9f",
      "metadata": {
        "tags": [],
        "id": "36fdff62-eaad-4fde-8994-d7dc912dfd9f"
      },
      "outputs": [],
      "source": [
        "def dataframe_difference(df1, df2, which=None):\n",
        "    \"\"\"Find rows which are different between two DataFrames.\"\"\"\n",
        "\n",
        "    # Combine the two DataFrames using a merge operation, with the\n",
        "    # indicator parameter set to True. This adds a column called _merge\n",
        "    # to the resulting DataFrame, which indicates the source of each row.\n",
        "    comparison_df = df1.merge(\n",
        "        df2,\n",
        "        indicator=True,\n",
        "        how='outer'\n",
        "    )\n",
        "\n",
        "    # Filter the merged DataFrame based on the value of _merge. If which\n",
        "    # is not specified, return all rows where _merge is not 'both'.\n",
        "    # Otherwise, return all rows where _merge has the specified value\n",
        "    if which is None:\n",
        "        diff_df = comparison_df[comparison_df['_merge'] != 'both']\n",
        "    else:\n",
        "        diff_df = comparison_df[comparison_df['_merge'] == which]\n",
        "\n",
        "    # Return the filtered DataFrame\n",
        "    return diff_df"
      ]
    },
    {
      "cell_type": "code",
      "execution_count": null,
      "id": "de606f01-0a47-4658-87f6-f6928374fa69",
      "metadata": {
        "tags": [],
        "id": "de606f01-0a47-4658-87f6-f6928374fa69",
        "outputId": "a50d99fe-1a6e-4c08-ba29-9c48df2c8158"
      },
      "outputs": [
        {
          "data": {
            "text/html": [
              "<div>\n",
              "<style scoped>\n",
              "    .dataframe tbody tr th:only-of-type {\n",
              "        vertical-align: middle;\n",
              "    }\n",
              "\n",
              "    .dataframe tbody tr th {\n",
              "        vertical-align: top;\n",
              "    }\n",
              "\n",
              "    .dataframe thead th {\n",
              "        text-align: right;\n",
              "    }\n",
              "</style>\n",
              "<table border=\"1\" class=\"dataframe\">\n",
              "  <thead>\n",
              "    <tr style=\"text-align: right;\">\n",
              "      <th></th>\n",
              "      <th>text</th>\n",
              "      <th>sentiment</th>\n",
              "      <th>_merge</th>\n",
              "    </tr>\n",
              "  </thead>\n",
              "  <tbody>\n",
              "  </tbody>\n",
              "</table>\n",
              "</div>"
            ],
            "text/plain": [
              "Empty DataFrame\n",
              "Columns: [text, sentiment, _merge]\n",
              "Index: []"
            ]
          },
          "execution_count": 37,
          "metadata": {},
          "output_type": "execute_result"
        }
      ],
      "source": [
        "dataframe_difference(df_train, df_test, which='both')"
      ]
    },
    {
      "cell_type": "code",
      "execution_count": null,
      "id": "367ac98f-5d5b-4bf6-bcf8-5e62190acc6e",
      "metadata": {
        "tags": [],
        "id": "367ac98f-5d5b-4bf6-bcf8-5e62190acc6e",
        "outputId": "f09d1b31-fd8d-4f38-b593-d4e8b96f06e2"
      },
      "outputs": [
        {
          "data": {
            "text/html": [
              "<div>\n",
              "<style scoped>\n",
              "    .dataframe tbody tr th:only-of-type {\n",
              "        vertical-align: middle;\n",
              "    }\n",
              "\n",
              "    .dataframe tbody tr th {\n",
              "        vertical-align: top;\n",
              "    }\n",
              "\n",
              "    .dataframe thead th {\n",
              "        text-align: right;\n",
              "    }\n",
              "</style>\n",
              "<table border=\"1\" class=\"dataframe\">\n",
              "  <thead>\n",
              "    <tr style=\"text-align: right;\">\n",
              "      <th></th>\n",
              "      <th>text</th>\n",
              "      <th>sentiment</th>\n",
              "      <th>_merge</th>\n",
              "    </tr>\n",
              "  </thead>\n",
              "  <tbody>\n",
              "  </tbody>\n",
              "</table>\n",
              "</div>"
            ],
            "text/plain": [
              "Empty DataFrame\n",
              "Columns: [text, sentiment, _merge]\n",
              "Index: []"
            ]
          },
          "execution_count": 38,
          "metadata": {},
          "output_type": "execute_result"
        }
      ],
      "source": [
        "dataframe_difference(df_train, df_val, which='both')"
      ]
    },
    {
      "cell_type": "code",
      "execution_count": null,
      "id": "ca2cc865-6f86-4060-99f2-f0ec82c0eeb3",
      "metadata": {
        "tags": [],
        "id": "ca2cc865-6f86-4060-99f2-f0ec82c0eeb3",
        "outputId": "ead291d0-a9e1-41b9-935f-81ae4c8d544e"
      },
      "outputs": [
        {
          "data": {
            "text/html": [
              "<div>\n",
              "<style scoped>\n",
              "    .dataframe tbody tr th:only-of-type {\n",
              "        vertical-align: middle;\n",
              "    }\n",
              "\n",
              "    .dataframe tbody tr th {\n",
              "        vertical-align: top;\n",
              "    }\n",
              "\n",
              "    .dataframe thead th {\n",
              "        text-align: right;\n",
              "    }\n",
              "</style>\n",
              "<table border=\"1\" class=\"dataframe\">\n",
              "  <thead>\n",
              "    <tr style=\"text-align: right;\">\n",
              "      <th></th>\n",
              "      <th>text</th>\n",
              "      <th>sentiment</th>\n",
              "      <th>_merge</th>\n",
              "    </tr>\n",
              "  </thead>\n",
              "  <tbody>\n",
              "  </tbody>\n",
              "</table>\n",
              "</div>"
            ],
            "text/plain": [
              "Empty DataFrame\n",
              "Columns: [text, sentiment, _merge]\n",
              "Index: []"
            ]
          },
          "execution_count": 39,
          "metadata": {},
          "output_type": "execute_result"
        }
      ],
      "source": [
        "dataframe_difference(df_test, df_val, which='both')"
      ]
    },
    {
      "cell_type": "markdown",
      "id": "ae13f4ba-23f1-4b0c-9bf7-6918bd152e43",
      "metadata": {
        "id": "ae13f4ba-23f1-4b0c-9bf7-6918bd152e43"
      },
      "source": [
        "### Cleaning"
      ]
    },
    {
      "cell_type": "code",
      "execution_count": null,
      "id": "86315062-739d-41b3-b8c2-23d1fe47c9d4",
      "metadata": {
        "tags": [],
        "id": "86315062-739d-41b3-b8c2-23d1fe47c9d4",
        "outputId": "a2b7ba97-559e-4304-acf6-d5e7f5a916b9"
      },
      "outputs": [
        {
          "name": "stderr",
          "output_type": "stream",
          "text": [
            "[nltk_data] Downloading package wordnet to /home/jay/nltk_data...\n",
            "[nltk_data]   Package wordnet is already up-to-date!\n"
          ]
        }
      ],
      "source": [
        "nltk.download('wordnet')\n",
        "def lemmatization(text):\n",
        "    lemmatizer= WordNetLemmatizer()\n",
        "\n",
        "    text = text.split()\n",
        "\n",
        "    text=[lemmatizer.lemmatize(y) for y in text]\n",
        "\n",
        "    return \" \" .join(text)"
      ]
    },
    {
      "cell_type": "code",
      "execution_count": null,
      "id": "25f8596c-ae79-4de2-bb68-0a496fbbb203",
      "metadata": {
        "tags": [],
        "id": "25f8596c-ae79-4de2-bb68-0a496fbbb203"
      },
      "outputs": [],
      "source": [
        "def remove_stop_words(text):\n",
        "\n",
        "    Text=[i for i in str(text).split() if i not in stop_words]\n",
        "    return \" \".join(Text)"
      ]
    },
    {
      "cell_type": "code",
      "execution_count": null,
      "id": "f04c7d57-751d-4788-bc5f-64a0c1e3c2ec",
      "metadata": {
        "tags": [],
        "id": "f04c7d57-751d-4788-bc5f-64a0c1e3c2ec"
      },
      "outputs": [],
      "source": [
        "def Removing_numbers(text):\n",
        "    text=''.join([i for i in text if not i.isdigit()])\n",
        "    return text"
      ]
    },
    {
      "cell_type": "code",
      "execution_count": null,
      "id": "cfb4f9f5-9ce3-48ef-92fe-44a18c5a1ec7",
      "metadata": {
        "tags": [],
        "id": "cfb4f9f5-9ce3-48ef-92fe-44a18c5a1ec7"
      },
      "outputs": [],
      "source": [
        "def lower_case(text):\n",
        "\n",
        "    text = text.split()\n",
        "\n",
        "    text=[y.lower() for y in text]\n",
        "\n",
        "    return \" \" .join(text)"
      ]
    },
    {
      "cell_type": "code",
      "execution_count": null,
      "id": "5acba285-f08e-4963-8234-dd34140a3733",
      "metadata": {
        "tags": [],
        "id": "5acba285-f08e-4963-8234-dd34140a3733"
      },
      "outputs": [],
      "source": [
        "import re\n",
        "def Removing_punctuations(text):\n",
        "    ## Remove punctuations\n",
        "    text = re.sub('[%s]' % re.escape(\"\"\"!\"#$%&'()*+,،-./:;<=>؟?@[\\]^_`{|}~\"\"\"), ' ', text)\n",
        "    text = text.replace('؛',\"\", )\n",
        "\n",
        "    ## remove extra whitespace\n",
        "    text = re.sub('\\s+', ' ', text)\n",
        "    text =  \" \".join(text.split())\n",
        "    return text.strip()"
      ]
    },
    {
      "cell_type": "code",
      "execution_count": null,
      "id": "ec457737-992f-4d61-8c68-0a6c27a7f065",
      "metadata": {
        "tags": [],
        "id": "ec457737-992f-4d61-8c68-0a6c27a7f065"
      },
      "outputs": [],
      "source": [
        "def Removing_urls(text):\n",
        "    url_pattern = re.compile(r'https?://\\S+|www\\.\\S+')\n",
        "    return url_pattern.sub(r'', text)"
      ]
    },
    {
      "cell_type": "code",
      "execution_count": null,
      "id": "3fa82889-6d7a-4106-94d2-8b254e16fe73",
      "metadata": {
        "tags": [],
        "id": "3fa82889-6d7a-4106-94d2-8b254e16fe73"
      },
      "outputs": [],
      "source": [
        "def remove_small_sentences(df):\n",
        "    for i in range(len(df)):\n",
        "        if len(df.text.iloc[i].split()) < 3:\n",
        "            df.text.iloc[i] = np.nan"
      ]
    },
    {
      "cell_type": "code",
      "execution_count": null,
      "id": "dc94bd37-67a7-44fb-952f-3370bccb677d",
      "metadata": {
        "tags": [],
        "id": "dc94bd37-67a7-44fb-952f-3370bccb677d"
      },
      "outputs": [],
      "source": [
        "def normalize_text(df):\n",
        "    df.text=df.text.apply(lambda text : lower_case(text))\n",
        "    df.text=df.text.apply(lambda text : remove_stop_words(text))\n",
        "    df.text=df.text.apply(lambda text : Removing_numbers(text))\n",
        "    df.text=df.text.apply(lambda text : Removing_punctuations(text))\n",
        "    df.text=df.text.apply(lambda text : Removing_urls(text))\n",
        "    df.text=df.text.apply(lambda text : lemmatization(text))\n",
        "    return df"
      ]
    },
    {
      "cell_type": "code",
      "execution_count": null,
      "id": "a0b841e1-baa1-44a0-a388-01c2a954f1ba",
      "metadata": {
        "tags": [],
        "id": "a0b841e1-baa1-44a0-a388-01c2a954f1ba"
      },
      "outputs": [],
      "source": [
        "def normalized_sentence(sentence):\n",
        "    sentence= lower_case(sentence)\n",
        "    sentence= remove_stop_words(sentence)\n",
        "    sentence= Removing_numbers(sentence)\n",
        "    sentence= Removing_punctuations(sentence)\n",
        "    sentence= Removing_urls(sentence)\n",
        "    sentence= lemmatization(sentence)\n",
        "    return sentence"
      ]
    },
    {
      "cell_type": "code",
      "execution_count": null,
      "id": "55f739dd-3285-4dbb-8f73-7947acf801e6",
      "metadata": {
        "tags": [],
        "id": "55f739dd-3285-4dbb-8f73-7947acf801e6",
        "outputId": "f50db4ba-dc30-4bb5-b655-ab160cc68219"
      },
      "outputs": [
        {
          "data": {
            "text/plain": [
              "'name jay extremely busy weekend much work do c'"
            ]
          },
          "execution_count": 49,
          "metadata": {},
          "output_type": "execute_result"
        }
      ],
      "source": [
        "normalized_sentence(\"my name is  JAY Extremely busy weekend. So much work to do. C\")"
      ]
    },
    {
      "cell_type": "code",
      "execution_count": null,
      "id": "c114ee0f-e882-4403-ae4d-e2edf4ac1016",
      "metadata": {
        "tags": [],
        "id": "c114ee0f-e882-4403-ae4d-e2edf4ac1016"
      },
      "outputs": [],
      "source": [
        "df_train= normalize_text(df_train)\n",
        "df_test= normalize_text(df_test)\n",
        "df_val= normalize_text(df_val)"
      ]
    },
    {
      "cell_type": "code",
      "execution_count": null,
      "id": "b55fc737-08f4-48cc-849e-e38bec470896",
      "metadata": {
        "tags": [],
        "id": "b55fc737-08f4-48cc-849e-e38bec470896",
        "outputId": "111f4c14-5453-4ad2-b78a-6d83de198f18"
      },
      "outputs": [
        {
          "data": {
            "text/html": [
              "<div>\n",
              "<style scoped>\n",
              "    .dataframe tbody tr th:only-of-type {\n",
              "        vertical-align: middle;\n",
              "    }\n",
              "\n",
              "    .dataframe tbody tr th {\n",
              "        vertical-align: top;\n",
              "    }\n",
              "\n",
              "    .dataframe thead th {\n",
              "        text-align: right;\n",
              "    }\n",
              "</style>\n",
              "<table border=\"1\" class=\"dataframe\">\n",
              "  <thead>\n",
              "    <tr style=\"text-align: right;\">\n",
              "      <th></th>\n",
              "      <th>text</th>\n",
              "      <th>sentiment</th>\n",
              "    </tr>\n",
              "  </thead>\n",
              "  <tbody>\n",
              "    <tr>\n",
              "      <th>0</th>\n",
              "      <td>need help dealing sertraline withdrawali recen...</td>\n",
              "      <td>suicide</td>\n",
              "    </tr>\n",
              "    <tr>\n",
              "      <th>1</th>\n",
              "      <td>maybe maybe bleedout ever liter blood rid you</td>\n",
              "      <td>depression</td>\n",
              "    </tr>\n",
              "    <tr>\n",
              "      <th>2</th>\n",
              "      <td>become lonely i d happy someone flirted jokeli...</td>\n",
              "      <td>depression</td>\n",
              "    </tr>\n",
              "    <tr>\n",
              "      <th>3</th>\n",
              "      <td>wanna gonna scare creepy fuck dm now i d say i...</td>\n",
              "      <td>non-suicide</td>\n",
              "    </tr>\n",
              "    <tr>\n",
              "      <th>4</th>\n",
              "      <td>seriously want die im ugly awkward these feeli...</td>\n",
              "      <td>suicide</td>\n",
              "    </tr>\n",
              "    <tr>\n",
              "      <th>...</th>\n",
              "      <td>...</td>\n",
              "      <td>...</td>\n",
              "    </tr>\n",
              "    <tr>\n",
              "      <th>222794</th>\n",
              "      <td>think can t iti nothing spend day home work go...</td>\n",
              "      <td>suicide</td>\n",
              "    </tr>\n",
              "    <tr>\n",
              "      <th>222795</th>\n",
              "      <td>homophobes🙄‼️ u even mad at🤣🤣🤣🤣🤣🤣 he’s getting...</td>\n",
              "      <td>non-suicide</td>\n",
              "    </tr>\n",
              "    <tr>\n",
              "      <th>222796</th>\n",
              "      <td>seattle suicide tomorrowhey guy staying family...</td>\n",
              "      <td>suicide</td>\n",
              "    </tr>\n",
              "    <tr>\n",
              "      <th>222797</th>\n",
              "      <td>nothing live fori really don t i m disabled lo...</td>\n",
              "      <td>suicide</td>\n",
              "    </tr>\n",
              "    <tr>\n",
              "      <th>222798</th>\n",
              "      <td>m didn’t plan live past high schooli decided e...</td>\n",
              "      <td>suicide</td>\n",
              "    </tr>\n",
              "  </tbody>\n",
              "</table>\n",
              "<p>222799 rows × 2 columns</p>\n",
              "</div>"
            ],
            "text/plain": [
              "                                                     text    sentiment\n",
              "0       need help dealing sertraline withdrawali recen...      suicide\n",
              "1           maybe maybe bleedout ever liter blood rid you   depression\n",
              "2       become lonely i d happy someone flirted jokeli...   depression\n",
              "3       wanna gonna scare creepy fuck dm now i d say i...  non-suicide\n",
              "4       seriously want die im ugly awkward these feeli...      suicide\n",
              "...                                                   ...          ...\n",
              "222794  think can t iti nothing spend day home work go...      suicide\n",
              "222795  homophobes🙄‼️ u even mad at🤣🤣🤣🤣🤣🤣 he’s getting...  non-suicide\n",
              "222796  seattle suicide tomorrowhey guy staying family...      suicide\n",
              "222797  nothing live fori really don t i m disabled lo...      suicide\n",
              "222798  m didn’t plan live past high schooli decided e...      suicide\n",
              "\n",
              "[222799 rows x 2 columns]"
            ]
          },
          "execution_count": 51,
          "metadata": {},
          "output_type": "execute_result"
        }
      ],
      "source": [
        "df_train"
      ]
    },
    {
      "cell_type": "markdown",
      "id": "4672e1a6-2b37-44c8-850b-c3c2a4877ec1",
      "metadata": {
        "tags": [],
        "id": "4672e1a6-2b37-44c8-850b-c3c2a4877ec1"
      },
      "source": [
        "# MODEL"
      ]
    },
    {
      "cell_type": "markdown",
      "id": "47044237-89fe-463b-a7c9-1c24a8182b0c",
      "metadata": {
        "tags": [],
        "id": "47044237-89fe-463b-a7c9-1c24a8182b0c"
      },
      "source": [
        "## 1. RNN model"
      ]
    },
    {
      "cell_type": "markdown",
      "id": "4e1cb1a2-b297-4394-95dc-a9820a4dc86c",
      "metadata": {
        "tags": [],
        "id": "4e1cb1a2-b297-4394-95dc-a9820a4dc86c"
      },
      "source": [
        "### Tokenizing"
      ]
    },
    {
      "cell_type": "code",
      "execution_count": null,
      "id": "23d665c4-0c2b-47fb-8886-477cdfa9da37",
      "metadata": {
        "tags": [],
        "id": "23d665c4-0c2b-47fb-8886-477cdfa9da37"
      },
      "outputs": [],
      "source": [
        "X_train = df_train['text']\n",
        "y_train = df_train['sentiment']\n",
        "\n",
        "X_test = df_test['text']\n",
        "y_test = df_test['sentiment']\n",
        "\n",
        "X_val = df_val['text']\n",
        "y_val = df_val['sentiment']\n"
      ]
    },
    {
      "cell_type": "code",
      "execution_count": null,
      "id": "5697be7b-62e6-4f39-94d4-2922491302ef",
      "metadata": {
        "tags": [],
        "id": "5697be7b-62e6-4f39-94d4-2922491302ef"
      },
      "outputs": [],
      "source": [
        "from sklearn.preprocessing import LabelEncoder\n",
        "le = LabelEncoder()\n",
        "y_train = le.fit_transform(y_train)\n",
        "y_test = le.transform(y_test)\n",
        "y_val = le.transform(y_val)\n"
      ]
    },
    {
      "cell_type": "code",
      "execution_count": null,
      "id": "29a71d4d-acc9-4129-bc5b-8543a2b5fe87",
      "metadata": {
        "tags": [],
        "id": "29a71d4d-acc9-4129-bc5b-8543a2b5fe87",
        "outputId": "0624d2e4-9dfb-4a46-8c93-f55ee019d242"
      },
      "outputs": [
        {
          "data": {
            "text/plain": [
              "array([2, 0, 0, ..., 2, 2, 2])"
            ]
          },
          "execution_count": 54,
          "metadata": {},
          "output_type": "execute_result"
        }
      ],
      "source": [
        "y_train"
      ]
    },
    {
      "cell_type": "code",
      "execution_count": null,
      "id": "d4aeb552-392b-4e51-a373-2f067d15b658",
      "metadata": {
        "tags": [],
        "id": "d4aeb552-392b-4e51-a373-2f067d15b658",
        "outputId": "5d2c341c-9417-4aa2-fade-b474863860d9"
      },
      "outputs": [
        {
          "name": "stdout",
          "output_type": "stream",
          "text": [
            "{0, 1, 2}\n"
          ]
        }
      ],
      "source": [
        "print(set(y_train))"
      ]
    },
    {
      "cell_type": "code",
      "execution_count": null,
      "id": "4681a2ba-8372-4196-b178-802b53cdc942",
      "metadata": {
        "tags": [],
        "id": "4681a2ba-8372-4196-b178-802b53cdc942"
      },
      "outputs": [],
      "source": [
        "from tensorflow.keras.utils import to_categorical\n",
        "y_train = to_categorical(y_train)\n",
        "y_test = to_categorical(y_test)\n",
        "y_val = to_categorical(y_val)\n"
      ]
    },
    {
      "cell_type": "code",
      "execution_count": null,
      "id": "218012b4-1282-4a74-aa82-4bcc59f975e9",
      "metadata": {
        "tags": [],
        "id": "218012b4-1282-4a74-aa82-4bcc59f975e9",
        "outputId": "3f34c7bb-92de-48fa-dacf-230d9332e908"
      },
      "outputs": [
        {
          "name": "stdout",
          "output_type": "stream",
          "text": [
            "[[0. 0. 1.]\n",
            " [1. 0. 0.]\n",
            " [1. 0. 0.]\n",
            " ...\n",
            " [0. 0. 1.]\n",
            " [0. 0. 1.]\n",
            " [0. 0. 1.]]\n"
          ]
        }
      ],
      "source": [
        "print(y_train)"
      ]
    },
    {
      "cell_type": "code",
      "execution_count": null,
      "id": "e610dd85-0ea0-4f85-8382-f17872de1268",
      "metadata": {
        "tags": [],
        "id": "e610dd85-0ea0-4f85-8382-f17872de1268"
      },
      "outputs": [],
      "source": [
        "from tensorflow.keras.preprocessing.text import Tokenizer\n",
        "from tensorflow.keras.preprocessing.sequence import pad_sequences"
      ]
    },
    {
      "cell_type": "code",
      "execution_count": null,
      "id": "4b0e74e6-425f-4766-aed7-4505db80b16a",
      "metadata": {
        "tags": [],
        "id": "4b0e74e6-425f-4766-aed7-4505db80b16a"
      },
      "outputs": [],
      "source": [
        "from tensorflow.keras.preprocessing.text import Tokenizer\n",
        "tokenizer = Tokenizer(oov_token='UNK')\n",
        "tokenizer.fit_on_texts(pd.concat([X_train, X_test], axis=0))"
      ]
    },
    {
      "cell_type": "code",
      "execution_count": null,
      "id": "779fb9f8-602f-4570-9584-5b6faf1dcfed",
      "metadata": {
        "tags": [],
        "id": "779fb9f8-602f-4570-9584-5b6faf1dcfed",
        "outputId": "3cb033a0-5869-4278-eeba-abfe614a932d"
      },
      "outputs": [
        {
          "data": {
            "text/plain": [
              "292424"
            ]
          },
          "execution_count": 60,
          "metadata": {},
          "output_type": "execute_result"
        }
      ],
      "source": [
        "tokenizer.document_count"
      ]
    },
    {
      "cell_type": "code",
      "execution_count": null,
      "id": "9a47115c-6683-42a1-9fda-e5c3de56f459",
      "metadata": {
        "tags": [],
        "id": "9a47115c-6683-42a1-9fda-e5c3de56f459",
        "outputId": "bf5f0f3c-add7-44ef-b184-54b2de99e5bf"
      },
      "outputs": [
        {
          "data": {
            "text/plain": [
              "648"
            ]
          },
          "execution_count": 61,
          "metadata": {},
          "output_type": "execute_result"
        }
      ],
      "source": [
        "tokenizer.word_index['towards']"
      ]
    },
    {
      "cell_type": "code",
      "execution_count": null,
      "id": "9dbaf200-3e81-416a-aa90-35500f3f50a9",
      "metadata": {
        "collapsed": true,
        "jupyter": {
          "outputs_hidden": true
        },
        "tags": [],
        "id": "9dbaf200-3e81-416a-aa90-35500f3f50a9",
        "outputId": "1e186bdc-5313-4509-a5b9-8e58d756a48f"
      },
      "outputs": [
        {
          "data": {
            "text/plain": [
              "[[47],\n",
              " [31],\n",
              " [684],\n",
              " [3361],\n",
              " [23996],\n",
              " [271],\n",
              " [348],\n",
              " [241],\n",
              " [3361],\n",
              " [4523],\n",
              " [14],\n",
              " [793],\n",
              " [381],\n",
              " [2314],\n",
              " [113],\n",
              " [616],\n",
              " [3768],\n",
              " [11],\n",
              " [77],\n",
              " [3969],\n",
              " [491],\n",
              " [378],\n",
              " [146],\n",
              " [14],\n",
              " [131],\n",
              " [125],\n",
              " [30],\n",
              " [831],\n",
              " [721],\n",
              " [675],\n",
              " [5562],\n",
              " [476],\n",
              " [10],\n",
              " [18],\n",
              " [11545],\n",
              " [11],\n",
              " [388],\n",
              " [111],\n",
              " [1298],\n",
              " [18],\n",
              " [699],\n",
              " [8517],\n",
              " [662],\n",
              " [102],\n",
              " [67],\n",
              " [29],\n",
              " [370],\n",
              " [6],\n",
              " [1234],\n",
              " [63],\n",
              " [355],\n",
              " [5137],\n",
              " [234],\n",
              " [181],\n",
              " [7522],\n",
              " [1194],\n",
              " [663],\n",
              " [370],\n",
              " [120],\n",
              " [653],\n",
              " [1088],\n",
              " [370],\n",
              " [1265],\n",
              " [104],\n",
              " [201],\n",
              " [111],\n",
              " [2632],\n",
              " [22396],\n",
              " [28],\n",
              " [5],\n",
              " [4],\n",
              " [528],\n",
              " [175],\n",
              " [111],\n",
              " [4],\n",
              " [188],\n",
              " [772],\n",
              " [480],\n",
              " [315],\n",
              " [772],\n",
              " [5563],\n",
              " [205],\n",
              " [1446],\n",
              " [1452],\n",
              " [4202],\n",
              " [104],\n",
              " [241],\n",
              " [323],\n",
              " [417],\n",
              " [21],\n",
              " [205],\n",
              " [5563],\n",
              " [537],\n",
              " [3496],\n",
              " [39],\n",
              " [480],\n",
              " [276],\n",
              " [16],\n",
              " [7],\n",
              " [5576],\n",
              " [1661],\n",
              " [8],\n",
              " [43],\n",
              " [17],\n",
              " [6],\n",
              " [57],\n",
              " [78],\n",
              " [433],\n",
              " [1067],\n",
              " [321],\n",
              " [8],\n",
              " [97],\n",
              " [244],\n",
              " [1151],\n",
              " [25],\n",
              " [37],\n",
              " [323],\n",
              " [945],\n",
              " [107],\n",
              " [2741],\n",
              " [1172],\n",
              " [118],\n",
              " [30],\n",
              " [95],\n",
              " [197],\n",
              " [311],\n",
              " [244],\n",
              " [14],\n",
              " [487],\n",
              " [6],\n",
              " [77],\n",
              " [161],\n",
              " [175],\n",
              " [14]]"
            ]
          },
          "execution_count": 63,
          "metadata": {},
          "output_type": "execute_result"
        }
      ],
      "source": [
        "tokenizer.texts_to_sequences(X_train[0].split())"
      ]
    },
    {
      "cell_type": "code",
      "execution_count": null,
      "id": "ecbd34fb-dd59-4e22-b044-218ac80ee4d8",
      "metadata": {
        "tags": [],
        "id": "ecbd34fb-dd59-4e22-b044-218ac80ee4d8",
        "outputId": "61161e26-90d7-427f-f467-4a14440bdd81"
      },
      "outputs": [
        {
          "data": {
            "text/plain": [
              "array([[0., 0., 0., ..., 0., 0., 0.],\n",
              "       [0., 0., 0., ..., 0., 0., 0.],\n",
              "       [0., 0., 0., ..., 0., 0., 0.],\n",
              "       ...,\n",
              "       [0., 0., 0., ..., 0., 0., 0.],\n",
              "       [0., 0., 0., ..., 0., 0., 0.],\n",
              "       [0., 0., 0., ..., 0., 0., 0.]])"
            ]
          },
          "execution_count": 64,
          "metadata": {},
          "output_type": "execute_result"
        }
      ],
      "source": [
        "tokenizer.texts_to_matrix(X_train[0].split())"
      ]
    },
    {
      "cell_type": "code",
      "execution_count": null,
      "id": "0deb7f45-cc93-4f51-8f32-7d6144a95365",
      "metadata": {
        "tags": [],
        "id": "0deb7f45-cc93-4f51-8f32-7d6144a95365",
        "outputId": "9231d920-7a3e-4d61-f6bf-f74b42eddd16"
      },
      "outputs": [
        {
          "data": {
            "text/plain": [
              "(134, 194252)"
            ]
          },
          "execution_count": 65,
          "metadata": {},
          "output_type": "execute_result"
        }
      ],
      "source": [
        "tokenizer.texts_to_matrix(X_train[0].split()).shape"
      ]
    },
    {
      "cell_type": "code",
      "execution_count": null,
      "id": "1b30abd2-ffbc-4a21-b1bf-76688d4cfe77",
      "metadata": {
        "tags": [],
        "id": "1b30abd2-ffbc-4a21-b1bf-76688d4cfe77"
      },
      "outputs": [],
      "source": [
        "sequences_train = tokenizer.texts_to_sequences(X_train)\n",
        "sequences_test = tokenizer.texts_to_sequences(X_test)\n",
        "sequences_val = tokenizer.texts_to_sequences(X_val)"
      ]
    },
    {
      "cell_type": "code",
      "execution_count": null,
      "id": "e1ee234d-d462-4e1c-a5fb-bac3a3f6c206",
      "metadata": {
        "tags": [],
        "id": "e1ee234d-d462-4e1c-a5fb-bac3a3f6c206",
        "outputId": "aeb5dbe9-f898-4d16-beb1-e895542b194c"
      },
      "outputs": [
        {
          "data": {
            "text/plain": [
              "(69625, 2)"
            ]
          },
          "execution_count": 67,
          "metadata": {},
          "output_type": "execute_result"
        }
      ],
      "source": [
        "df_test.shape"
      ]
    },
    {
      "cell_type": "code",
      "execution_count": null,
      "id": "f41ed2eb-e31c-4d23-a8f2-93aa639c8c31",
      "metadata": {
        "tags": [],
        "id": "f41ed2eb-e31c-4d23-a8f2-93aa639c8c31",
        "outputId": "0b4584d1-dc01-4357-b952-70eadb4a54ec"
      },
      "outputs": [
        {
          "data": {
            "text/plain": [
              "91"
            ]
          },
          "execution_count": 68,
          "metadata": {},
          "output_type": "execute_result"
        }
      ],
      "source": [
        "round(sum([len(i.split()) for i in df_train['text']])/len(df_train['text']))\n"
      ]
    },
    {
      "cell_type": "code",
      "execution_count": null,
      "id": "10e02aa9-69f6-40d2-9a7d-f652fa6fd88e",
      "metadata": {
        "tags": [],
        "id": "10e02aa9-69f6-40d2-9a7d-f652fa6fd88e",
        "outputId": "31303729-35f4-40dd-bbb9-3cda50fdc217"
      },
      "outputs": [
        {
          "name": "stdout",
          "output_type": "stream",
          "text": [
            "Vocabulary size = 194252\n"
          ]
        }
      ],
      "source": [
        "X_train = pad_sequences(sequences_train, maxlen=350, truncating='pre')\n",
        "X_test = pad_sequences(sequences_test, maxlen=250, truncating='pre')\n",
        "X_val = pad_sequences(sequences_val, maxlen=250, truncating='pre')\n",
        "\n",
        "vocabSize = len(tokenizer.index_word) + 1\n",
        "print(f\"Vocabulary size = {vocabSize}\")"
      ]
    },
    {
      "cell_type": "code",
      "execution_count": null,
      "id": "56d481b1-113c-464a-b921-d1f8852b9ac5",
      "metadata": {
        "tags": [],
        "id": "56d481b1-113c-464a-b921-d1f8852b9ac5",
        "outputId": "1ba6801d-e109-48b0-947e-b1d55aa3430e"
      },
      "outputs": [
        {
          "data": {
            "text/plain": [
              "[47,\n",
              " 31,\n",
              " 684,\n",
              " 3361,\n",
              " 23996,\n",
              " 271,\n",
              " 348,\n",
              " 241,\n",
              " 3361,\n",
              " 4523,\n",
              " 14,\n",
              " 793,\n",
              " 381,\n",
              " 2314,\n",
              " 113,\n",
              " 616,\n",
              " 3768,\n",
              " 11,\n",
              " 77,\n",
              " 3969,\n",
              " 491,\n",
              " 378,\n",
              " 146,\n",
              " 14,\n",
              " 131,\n",
              " 125,\n",
              " 30,\n",
              " 831,\n",
              " 721,\n",
              " 675,\n",
              " 5562,\n",
              " 476,\n",
              " 10,\n",
              " 18,\n",
              " 11545,\n",
              " 11,\n",
              " 388,\n",
              " 111,\n",
              " 1298,\n",
              " 18,\n",
              " 699,\n",
              " 8517,\n",
              " 662,\n",
              " 102,\n",
              " 67,\n",
              " 29,\n",
              " 370,\n",
              " 6,\n",
              " 1234,\n",
              " 63,\n",
              " 355,\n",
              " 5137,\n",
              " 234,\n",
              " 181,\n",
              " 7522,\n",
              " 1194,\n",
              " 663,\n",
              " 370,\n",
              " 120,\n",
              " 653,\n",
              " 1088,\n",
              " 370,\n",
              " 1265,\n",
              " 104,\n",
              " 201,\n",
              " 111,\n",
              " 2632,\n",
              " 22396,\n",
              " 28,\n",
              " 5,\n",
              " 4,\n",
              " 528,\n",
              " 175,\n",
              " 111,\n",
              " 4,\n",
              " 188,\n",
              " 772,\n",
              " 480,\n",
              " 315,\n",
              " 772,\n",
              " 5563,\n",
              " 205,\n",
              " 1446,\n",
              " 1452,\n",
              " 4202,\n",
              " 104,\n",
              " 241,\n",
              " 323,\n",
              " 417,\n",
              " 21,\n",
              " 205,\n",
              " 5563,\n",
              " 537,\n",
              " 3496,\n",
              " 39,\n",
              " 480,\n",
              " 276,\n",
              " 16,\n",
              " 7,\n",
              " 5576,\n",
              " 1661,\n",
              " 8,\n",
              " 43,\n",
              " 17,\n",
              " 6,\n",
              " 57,\n",
              " 78,\n",
              " 433,\n",
              " 1067,\n",
              " 321,\n",
              " 8,\n",
              " 97,\n",
              " 244,\n",
              " 1151,\n",
              " 25,\n",
              " 37,\n",
              " 323,\n",
              " 945,\n",
              " 107,\n",
              " 2741,\n",
              " 1172,\n",
              " 118,\n",
              " 30,\n",
              " 95,\n",
              " 197,\n",
              " 311,\n",
              " 244,\n",
              " 14,\n",
              " 487,\n",
              " 6,\n",
              " 77,\n",
              " 161,\n",
              " 175,\n",
              " 14]"
            ]
          },
          "execution_count": 74,
          "metadata": {},
          "output_type": "execute_result"
        }
      ],
      "source": [
        "sequences_train[0]"
      ]
    },
    {
      "cell_type": "code",
      "execution_count": null,
      "id": "a405b772-fd8d-4fb6-ba92-fa83f2442bfd",
      "metadata": {
        "tags": [],
        "id": "a405b772-fd8d-4fb6-ba92-fa83f2442bfd",
        "outputId": "53ee842e-6144-4683-9fac-47d9df4fa6f4"
      },
      "outputs": [
        {
          "data": {
            "text/plain": [
              "array([    0,     0,     0,     0,     0,     0,     0,     0,     0,\n",
              "           0,     0,     0,     0,     0,     0,     0,     0,     0,\n",
              "           0,     0,     0,     0,     0,     0,     0,     0,     0,\n",
              "           0,     0,     0,     0,     0,     0,     0,     0,     0,\n",
              "           0,     0,     0,     0,     0,     0,     0,     0,     0,\n",
              "           0,     0,     0,     0,     0,     0,     0,     0,     0,\n",
              "           0,     0,     0,     0,     0,     0,     0,     0,     0,\n",
              "           0,     0,     0,     0,     0,     0,     0,     0,     0,\n",
              "           0,     0,     0,     0,     0,     0,     0,     0,     0,\n",
              "           0,     0,     0,     0,     0,     0,     0,     0,     0,\n",
              "           0,     0,     0,     0,     0,     0,     0,     0,     0,\n",
              "           0,     0,     0,     0,     0,     0,     0,     0,     0,\n",
              "           0,     0,     0,     0,     0,     0,     0,     0,     0,\n",
              "           0,     0,     0,     0,     0,     0,     0,     0,     0,\n",
              "           0,     0,     0,     0,     0,     0,     0,     0,     0,\n",
              "           0,     0,     0,     0,     0,     0,     0,     0,     0,\n",
              "           0,     0,     0,     0,     0,     0,     0,     0,     0,\n",
              "           0,     0,     0,     0,     0,     0,     0,     0,     0,\n",
              "           0,     0,     0,     0,     0,     0,     0,     0,     0,\n",
              "           0,     0,     0,     0,     0,     0,     0,     0,     0,\n",
              "           0,     0,     0,     0,     0,     0,     0,     0,     0,\n",
              "           0,     0,     0,     0,     0,     0,     0,     0,     0,\n",
              "           0,     0,     0,     0,     0,     0,     0,     0,     0,\n",
              "           0,     0,     0,     0,     0,     0,     0,     0,     0,\n",
              "          47,    31,   684,  3361, 23996,   271,   348,   241,  3361,\n",
              "        4523,    14,   793,   381,  2314,   113,   616,  3768,    11,\n",
              "          77,  3969,   491,   378,   146,    14,   131,   125,    30,\n",
              "         831,   721,   675,  5562,   476,    10,    18, 11545,    11,\n",
              "         388,   111,  1298,    18,   699,  8517,   662,   102,    67,\n",
              "          29,   370,     6,  1234,    63,   355,  5137,   234,   181,\n",
              "        7522,  1194,   663,   370,   120,   653,  1088,   370,  1265,\n",
              "         104,   201,   111,  2632, 22396,    28,     5,     4,   528,\n",
              "         175,   111,     4,   188,   772,   480,   315,   772,  5563,\n",
              "         205,  1446,  1452,  4202,   104,   241,   323,   417,    21,\n",
              "         205,  5563,   537,  3496,    39,   480,   276,    16,     7,\n",
              "        5576,  1661,     8,    43,    17,     6,    57,    78,   433,\n",
              "        1067,   321,     8,    97,   244,  1151,    25,    37,   323,\n",
              "         945,   107,  2741,  1172,   118,    30,    95,   197,   311,\n",
              "         244,    14,   487,     6,    77,   161,   175,    14],\n",
              "      dtype=int32)"
            ]
          },
          "execution_count": 75,
          "metadata": {},
          "output_type": "execute_result"
        }
      ],
      "source": [
        "X_train[0]\n"
      ]
    },
    {
      "cell_type": "code",
      "execution_count": null,
      "id": "59065ea5-fba0-4ea2-b04e-f696630f9ab0",
      "metadata": {
        "tags": [],
        "id": "59065ea5-fba0-4ea2-b04e-f696630f9ab0",
        "outputId": "69f86650-939c-4b4e-fa22-0c08d4178ae9"
      },
      "outputs": [
        {
          "name": "stdout",
          "output_type": "stream",
          "text": [
            "WARNING:tensorflow:Layer lstm will not use cuDNN kernels since it doesn't meet the criteria. It will use a generic GPU kernel as fallback when running on GPU.\n",
            "WARNING:tensorflow:Layer lstm will not use cuDNN kernels since it doesn't meet the criteria. It will use a generic GPU kernel as fallback when running on GPU.\n",
            "WARNING:tensorflow:Layer lstm will not use cuDNN kernels since it doesn't meet the criteria. It will use a generic GPU kernel as fallback when running on GPU.\n",
            "WARNING:tensorflow:Layer lstm_1 will not use cuDNN kernels since it doesn't meet the criteria. It will use a generic GPU kernel as fallback when running on GPU.\n",
            "WARNING:tensorflow:Layer lstm_1 will not use cuDNN kernels since it doesn't meet the criteria. It will use a generic GPU kernel as fallback when running on GPU.\n",
            "WARNING:tensorflow:Layer lstm_1 will not use cuDNN kernels since it doesn't meet the criteria. It will use a generic GPU kernel as fallback when running on GPU.\n",
            "WARNING:tensorflow:Layer lstm_2 will not use cuDNN kernels since it doesn't meet the criteria. It will use a generic GPU kernel as fallback when running on GPU.\n",
            "WARNING:tensorflow:Layer lstm_2 will not use cuDNN kernels since it doesn't meet the criteria. It will use a generic GPU kernel as fallback when running on GPU.\n",
            "WARNING:tensorflow:Layer lstm_2 will not use cuDNN kernels since it doesn't meet the criteria. It will use a generic GPU kernel as fallback when running on GPU.\n",
            "Model: \"sequential\"\n",
            "_________________________________________________________________\n",
            " Layer (type)                Output Shape              Param #   \n",
            "=================================================================\n",
            " embedding_1 (Embedding)     (None, 250, 200)          38800000  \n",
            "                                                                 \n",
            " bidirectional (Bidirection  (None, 250, 128)          135680    \n",
            " al)                                                             \n",
            "                                                                 \n",
            " bidirectional_1 (Bidirecti  (None, 250, 64)           41216     \n",
            " onal)                                                           \n",
            "                                                                 \n",
            " bidirectional_2 (Bidirecti  (None, 64)                24832     \n",
            " onal)                                                           \n",
            "                                                                 \n",
            " dense (Dense)               (None, 3)                 195       \n",
            "                                                                 \n",
            "=================================================================\n",
            "Total params: 39001923 (148.78 MB)\n",
            "Trainable params: 39001923 (148.78 MB)\n",
            "Non-trainable params: 0 (0.00 Byte)\n",
            "_________________________________________________________________\n"
          ]
        }
      ],
      "source": [
        "from tensorflow.keras.optimizers import Adam\n",
        "from tensorflow.keras import Sequential\n",
        "from tensorflow.keras.layers import Dense, LSTM, Bidirectional ,Embedding\n",
        "adam = Adam(learning_rate=0.005)\n",
        "\n",
        "model = Sequential()\n",
        "model.add(Embedding(input_dim=194000, # max_vocb\n",
        "                             output_dim=200,\n",
        "                             embeddings_initializer=\"uniform\",\n",
        "                             input_length=250, #max _len\n",
        "                             name=\"embedding_1\",tainable=False))\n",
        "model.add(Bidirectional(LSTM(64, dropout=0.2,recurrent_dropout=0.2, return_sequences=True)))\n",
        "model.add(Bidirectional(LSTM(32, dropout=0.2,recurrent_dropout=0.2, return_sequences=True)))\n",
        "model.add(Bidirectional(LSTM(32, dropout=0.2,recurrent_dropout=0.2)))\n",
        "model.add(Dense(3, activation='softmax'))\n",
        "\n",
        "model.compile(loss='categorical_crossentropy', optimizer=adam, metrics=['accuracy'])\n",
        "model.summary()"
      ]
    },
    {
      "cell_type": "code",
      "execution_count": null,
      "id": "18882c2d-74dd-4257-8283-1e0e2582f94f",
      "metadata": {
        "id": "18882c2d-74dd-4257-8283-1e0e2582f94f",
        "outputId": "33f131c9-529a-4499-bc2f-ebbf994c69a1"
      },
      "outputs": [
        {
          "name": "stdout",
          "output_type": "stream",
          "text": [
            "You must install pydot (`pip install pydot`) and install graphviz (see instructions at https://graphviz.gitlab.io/download/) for plot_model to work.\n"
          ]
        }
      ],
      "source": [
        "from tensorflow.keras.utils import plot_model\n",
        "import pydot\n",
        "plot_model(model, show_shapes=True)"
      ]
    },
    {
      "cell_type": "code",
      "execution_count": null,
      "id": "1aeacee1-a7f7-46db-b968-3a850fb21042",
      "metadata": {
        "tags": [],
        "id": "1aeacee1-a7f7-46db-b968-3a850fb21042"
      },
      "outputs": [],
      "source": [
        "from tensorflow.keras.callbacks import EarlyStopping\n",
        "callback = EarlyStopping(\n",
        "    monitor=\"val_loss\",\n",
        "    patience=4,\n",
        "    restore_best_weights=True,\n",
        ")"
      ]
    },
    {
      "cell_type": "code",
      "execution_count": null,
      "id": "1c403771-cc81-45e5-9357-2e600891f20c",
      "metadata": {
        "id": "1c403771-cc81-45e5-9357-2e600891f20c"
      },
      "outputs": [],
      "source": [
        "history = model.fit(X_train,\n",
        "                    y_train,\n",
        "                    validation_data=(X_val, y_val),\n",
        "                    verbose=1,\n",
        "                    batch_size=256,\n",
        "                    epochs=5,\n",
        "                    callbacks=[callback]\n",
        "                   )"
      ]
    }
  ],
  "metadata": {
    "kernelspec": {
      "display_name": "Python 3 (ipykernel)",
      "language": "python",
      "name": "python3"
    },
    "language_info": {
      "codemirror_mode": {
        "name": "ipython",
        "version": 3
      },
      "file_extension": ".py",
      "mimetype": "text/x-python",
      "name": "python",
      "nbconvert_exporter": "python",
      "pygments_lexer": "ipython3",
      "version": "3.9.17"
    },
    "colab": {
      "provenance": []
    }
  },
  "nbformat": 4,
  "nbformat_minor": 5
}