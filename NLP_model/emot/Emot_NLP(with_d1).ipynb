{
 "cells": [
  {
   "cell_type": "code",
   "execution_count": 1,
   "id": "cb400a1a-673e-419a-8b62-a212124f8a67",
   "metadata": {
    "tags": []
   },
   "outputs": [
    {
     "name": "stderr",
     "output_type": "stream",
     "text": [
      "2023-08-05 11:23:30.451083: I tensorflow/core/platform/cpu_feature_guard.cc:182] This TensorFlow binary is optimized to use available CPU instructions in performance-critical operations.\n",
      "To enable the following instructions: AVX2 FMA, in other operations, rebuild TensorFlow with the appropriate compiler flags.\n",
      "2023-08-05 11:23:40.943937: W tensorflow/compiler/tf2tensorrt/utils/py_utils.cc:38] TF-TRT Warning: Could not find TensorRT\n"
     ]
    }
   ],
   "source": [
    "import tensorflow as tf\n",
    "import pandas as pd\n",
    "import numpy as np"
   ]
  },
  {
   "cell_type": "code",
   "execution_count": 2,
   "id": "2a335aba-dc62-4707-930c-9905fd4141b1",
   "metadata": {
    "tags": []
   },
   "outputs": [
    {
     "name": "stdout",
     "output_type": "stream",
     "text": [
      "GPU 0: NVIDIA GeForce 940MX (UUID: GPU-ffb5177f-d8ce-71bb-2ac1-8bdd43322698)\n"
     ]
    }
   ],
   "source": [
    "!nvidia-smi -L"
   ]
  },
  {
   "cell_type": "markdown",
   "id": "b2c4670c-3974-4b15-bc5d-ad3d257b25ba",
   "metadata": {
    "tags": []
   },
   "source": [
    "# DATA PREPROCESSING"
   ]
  },
  {
   "cell_type": "code",
   "execution_count": 3,
   "id": "7513101a-15b8-4f1e-9f4e-5fecb1e0b0a0",
   "metadata": {
    "tags": []
   },
   "outputs": [
    {
     "data": {
      "text/html": [
       "<div>\n",
       "<style scoped>\n",
       "    .dataframe tbody tr th:only-of-type {\n",
       "        vertical-align: middle;\n",
       "    }\n",
       "\n",
       "    .dataframe tbody tr th {\n",
       "        vertical-align: top;\n",
       "    }\n",
       "\n",
       "    .dataframe thead th {\n",
       "        text-align: right;\n",
       "    }\n",
       "</style>\n",
       "<table border=\"1\" class=\"dataframe\">\n",
       "  <thead>\n",
       "    <tr style=\"text-align: right;\">\n",
       "      <th></th>\n",
       "      <th>tweet_id</th>\n",
       "      <th>sentiment</th>\n",
       "      <th>content</th>\n",
       "    </tr>\n",
       "  </thead>\n",
       "  <tbody>\n",
       "    <tr>\n",
       "      <th>0</th>\n",
       "      <td>1956967341</td>\n",
       "      <td>empty</td>\n",
       "      <td>@tiffanylue i know  i was listenin to bad habi...</td>\n",
       "    </tr>\n",
       "    <tr>\n",
       "      <th>1</th>\n",
       "      <td>1956967666</td>\n",
       "      <td>sadness</td>\n",
       "      <td>Layin n bed with a headache  ughhhh...waitin o...</td>\n",
       "    </tr>\n",
       "    <tr>\n",
       "      <th>2</th>\n",
       "      <td>1956967696</td>\n",
       "      <td>sadness</td>\n",
       "      <td>Funeral ceremony...gloomy friday...</td>\n",
       "    </tr>\n",
       "    <tr>\n",
       "      <th>3</th>\n",
       "      <td>1956967789</td>\n",
       "      <td>enthusiasm</td>\n",
       "      <td>wants to hang out with friends SOON!</td>\n",
       "    </tr>\n",
       "    <tr>\n",
       "      <th>4</th>\n",
       "      <td>1956968416</td>\n",
       "      <td>neutral</td>\n",
       "      <td>@dannycastillo We want to trade with someone w...</td>\n",
       "    </tr>\n",
       "    <tr>\n",
       "      <th>...</th>\n",
       "      <td>...</td>\n",
       "      <td>...</td>\n",
       "      <td>...</td>\n",
       "    </tr>\n",
       "    <tr>\n",
       "      <th>39995</th>\n",
       "      <td>1753918954</td>\n",
       "      <td>neutral</td>\n",
       "      <td>@JohnLloydTaylor</td>\n",
       "    </tr>\n",
       "    <tr>\n",
       "      <th>39996</th>\n",
       "      <td>1753919001</td>\n",
       "      <td>love</td>\n",
       "      <td>Happy Mothers Day  All my love</td>\n",
       "    </tr>\n",
       "    <tr>\n",
       "      <th>39997</th>\n",
       "      <td>1753919005</td>\n",
       "      <td>love</td>\n",
       "      <td>Happy Mother's Day to all the mommies out ther...</td>\n",
       "    </tr>\n",
       "    <tr>\n",
       "      <th>39998</th>\n",
       "      <td>1753919043</td>\n",
       "      <td>happiness</td>\n",
       "      <td>@niariley WASSUP BEAUTIFUL!!! FOLLOW ME!!  PEE...</td>\n",
       "    </tr>\n",
       "    <tr>\n",
       "      <th>39999</th>\n",
       "      <td>1753919049</td>\n",
       "      <td>love</td>\n",
       "      <td>@mopedronin bullet train from tokyo    the gf ...</td>\n",
       "    </tr>\n",
       "  </tbody>\n",
       "</table>\n",
       "<p>40000 rows × 3 columns</p>\n",
       "</div>"
      ],
      "text/plain": [
       "         tweet_id   sentiment  \\\n",
       "0      1956967341       empty   \n",
       "1      1956967666     sadness   \n",
       "2      1956967696     sadness   \n",
       "3      1956967789  enthusiasm   \n",
       "4      1956968416     neutral   \n",
       "...           ...         ...   \n",
       "39995  1753918954     neutral   \n",
       "39996  1753919001        love   \n",
       "39997  1753919005        love   \n",
       "39998  1753919043   happiness   \n",
       "39999  1753919049        love   \n",
       "\n",
       "                                                 content  \n",
       "0      @tiffanylue i know  i was listenin to bad habi...  \n",
       "1      Layin n bed with a headache  ughhhh...waitin o...  \n",
       "2                    Funeral ceremony...gloomy friday...  \n",
       "3                   wants to hang out with friends SOON!  \n",
       "4      @dannycastillo We want to trade with someone w...  \n",
       "...                                                  ...  \n",
       "39995                                   @JohnLloydTaylor  \n",
       "39996                     Happy Mothers Day  All my love  \n",
       "39997  Happy Mother's Day to all the mommies out ther...  \n",
       "39998  @niariley WASSUP BEAUTIFUL!!! FOLLOW ME!!  PEE...  \n",
       "39999  @mopedronin bullet train from tokyo    the gf ...  \n",
       "\n",
       "[40000 rows x 3 columns]"
      ]
     },
     "execution_count": 3,
     "metadata": {},
     "output_type": "execute_result"
    }
   ],
   "source": [
    "dataset = pd.read_csv('tweet_emotions.csv')\n",
    "dataset"
   ]
  },
  {
   "cell_type": "code",
   "execution_count": 4,
   "id": "984f3a58-f6b4-4a72-a064-fe649ff31db9",
   "metadata": {},
   "outputs": [
    {
     "data": {
      "text/plain": [
       "sentiment\n",
       "neutral       8638\n",
       "worry         8459\n",
       "happiness     5209\n",
       "sadness       5165\n",
       "love          3842\n",
       "surprise      2187\n",
       "fun           1776\n",
       "relief        1526\n",
       "hate          1323\n",
       "empty          827\n",
       "enthusiasm     759\n",
       "boredom        179\n",
       "anger          110\n",
       "Name: count, dtype: int64"
      ]
     },
     "execution_count": 4,
     "metadata": {},
     "output_type": "execute_result"
    }
   ],
   "source": [
    "dataset.sentiment.value_counts()"
   ]
  },
  {
   "cell_type": "code",
   "execution_count": 5,
   "id": "093624d2-23bc-42f3-ac19-4351b121fb35",
   "metadata": {
    "tags": []
   },
   "outputs": [],
   "source": [
    "dataset = dataset.drop('tweet_id', axis=1)"
   ]
  },
  {
   "cell_type": "code",
   "execution_count": 72,
   "id": "51e2fdd3-6042-4593-b595-57bbe957a0e3",
   "metadata": {
    "tags": []
   },
   "outputs": [],
   "source": [
    "dataset['sentiment'] = dataset['sentiment'].replace('fun', 'happiness')\n",
    "dataset['sentiment'] = dataset['sentiment'].replace('boredom', 'sadness')\n",
    "dataset['sentiment'] = dataset['sentiment'].replace('anger', 'hate')\n",
    "dataset['sentiment'] = dataset['sentiment'].replace('empty', 'neutral')\n",
    "dataset['sentiment'] = dataset['sentiment'].replace('enthusiasm', 'happiness')\n",
    "dataset['sentiment'] = dataset['sentiment'].replace('relief', 'nuetral')"
   ]
  },
  {
   "cell_type": "code",
   "execution_count": 73,
   "id": "0ad78e4f-e0a0-45f6-b97d-438a80cba485",
   "metadata": {
    "tags": []
   },
   "outputs": [
    {
     "data": {
      "text/plain": [
       "sentiment\n",
       "neutral      9465\n",
       "worry        8459\n",
       "happiness    7744\n",
       "sadness      5344\n",
       "love         3842\n",
       "surprise     2187\n",
       "nuetral      1526\n",
       "hate         1433\n",
       "Name: count, dtype: int64"
      ]
     },
     "execution_count": 73,
     "metadata": {},
     "output_type": "execute_result"
    }
   ],
   "source": [
    "dataset.sentiment.value_counts()"
   ]
  },
  {
   "cell_type": "markdown",
   "id": "387c59b0-905b-4f1a-ad9e-0964fd809d4c",
   "metadata": {
    "tags": []
   },
   "source": [
    "## Spliting the dataset into test train and val "
   ]
  },
  {
   "cell_type": "code",
   "execution_count": 74,
   "id": "c33012ff-9854-4b1f-b484-c1b5c7321032",
   "metadata": {
    "tags": []
   },
   "outputs": [],
   "source": [
    "import sklearn\n",
    "from sklearn.model_selection import train_test_split"
   ]
  },
  {
   "cell_type": "code",
   "execution_count": 75,
   "id": "2727fbeb-f45a-4803-8dc1-9f0f4325b50f",
   "metadata": {
    "tags": []
   },
   "outputs": [],
   "source": [
    "df_train, df_test = train_test_split(dataset, test_size=0.2)\n",
    "df_train, df_val = train_test_split(df_train, test_size=0.2)"
   ]
  },
  {
   "cell_type": "code",
   "execution_count": 76,
   "id": "7c19ceca-feca-40eb-ad98-95d8ce72de3f",
   "metadata": {
    "tags": []
   },
   "outputs": [
    {
     "data": {
      "text/plain": [
       "25600"
      ]
     },
     "execution_count": 76,
     "metadata": {},
     "output_type": "execute_result"
    }
   ],
   "source": [
    "len(df_train)"
   ]
  },
  {
   "cell_type": "code",
   "execution_count": 77,
   "id": "fde0d8dc-ee14-40e0-9976-05b1e1596897",
   "metadata": {
    "tags": []
   },
   "outputs": [
    {
     "data": {
      "text/plain": [
       "8000"
      ]
     },
     "execution_count": 77,
     "metadata": {},
     "output_type": "execute_result"
    }
   ],
   "source": [
    "len(df_test)"
   ]
  },
  {
   "cell_type": "code",
   "execution_count": 78,
   "id": "9bf2605b-524c-4802-b91e-f9c89b8727c6",
   "metadata": {
    "tags": []
   },
   "outputs": [
    {
     "data": {
      "text/plain": [
       "6400"
      ]
     },
     "execution_count": 78,
     "metadata": {},
     "output_type": "execute_result"
    }
   ],
   "source": [
    "len(df_val)"
   ]
  },
  {
   "cell_type": "markdown",
   "id": "9ed00749-4f39-4322-88ed-ca942dcd883f",
   "metadata": {},
   "source": [
    "## Assesment of the data"
   ]
  },
  {
   "cell_type": "markdown",
   "id": "a860413f-d61c-4d49-a736-ffc8437e9349",
   "metadata": {},
   "source": [
    "### Traing set"
   ]
  },
  {
   "cell_type": "code",
   "execution_count": 79,
   "id": "de4b4227-0e98-4427-9087-4c26db1ea509",
   "metadata": {
    "tags": []
   },
   "outputs": [
    {
     "data": {
      "text/plain": [
       "sentiment\n",
       "neutral      6069\n",
       "worry        5402\n",
       "happiness    4911\n",
       "sadness      3489\n",
       "love         2412\n",
       "surprise     1435\n",
       "nuetral       979\n",
       "hate          903\n",
       "Name: count, dtype: int64"
      ]
     },
     "execution_count": 79,
     "metadata": {},
     "output_type": "execute_result"
    }
   ],
   "source": [
    "df_train.sentiment.value_counts()"
   ]
  },
  {
   "cell_type": "code",
   "execution_count": 80,
   "id": "5d1e794d-bcb5-440c-9b28-3d913ca8da2e",
   "metadata": {
    "tags": []
   },
   "outputs": [
    {
     "data": {
      "text/plain": [
       "sentiment\n",
       "neutral      23.707031\n",
       "worry        21.101562\n",
       "happiness    19.183594\n",
       "sadness      13.628906\n",
       "love          9.421875\n",
       "surprise      5.605469\n",
       "nuetral       3.824219\n",
       "hate          3.527344\n",
       "Name: count, dtype: float64"
      ]
     },
     "execution_count": 80,
     "metadata": {},
     "output_type": "execute_result"
    }
   ],
   "source": [
    "df_train.sentiment.value_counts() / df_train.shape[0] *100"
   ]
  },
  {
   "cell_type": "code",
   "execution_count": 81,
   "id": "b73090d6-d0dd-4be5-9d07-3603ec2e5d0d",
   "metadata": {
    "tags": []
   },
   "outputs": [
    {
     "data": {
      "image/png": "[encoded data removed]",
      "text/plain": [
       "<Figure size 1200x400 with 1 Axes>"
      ]
     },
     "metadata": {},
     "output_type": "display_data"
    }
   ],
   "source": [
    "from matplotlib import pyplot as plt\n",
    "import seaborn as sns\n",
    "plt.figure(figsize=(12,4))\n",
    "sns.countplot(x='sentiment', data=df_train);"
   ]
  },
  {
   "cell_type": "code",
   "execution_count": 82,
   "id": "8cfad5af-2d1b-43c4-983e-2bac1ef0967b",
   "metadata": {
    "tags": []
   },
   "outputs": [
    {
     "data": {
      "text/plain": [
       "sentiment    0\n",
       "content      0\n",
       "dtype: int64"
      ]
     },
     "execution_count": 82,
     "metadata": {},
     "output_type": "execute_result"
    }
   ],
   "source": [
    "df_train.isnull().sum()"
   ]
  },
  {
   "cell_type": "code",
   "execution_count": 83,
   "id": "c388398e-364e-414a-98de-8029978c30ea",
   "metadata": {
    "tags": []
   },
   "outputs": [
    {
     "data": {
      "text/plain": [
       "43"
      ]
     },
     "execution_count": 83,
     "metadata": {},
     "output_type": "execute_result"
    }
   ],
   "source": [
    "df_train.duplicated().sum()"
   ]
  },
  {
   "cell_type": "code",
   "execution_count": 84,
   "id": "b4ac5a0c-07ff-4ce6-b793-a38378c208bb",
   "metadata": {
    "tags": []
   },
   "outputs": [],
   "source": [
    "index = df_train[df_train.duplicated() == True].index\n",
    "df_train.drop(index, axis = 0, inplace = True)\n",
    "df_train.reset_index(inplace=True, drop = True)"
   ]
  },
  {
   "cell_type": "code",
   "execution_count": 85,
   "id": "b842cf15-70ba-475d-a4bd-642fceb137f2",
   "metadata": {
    "tags": []
   },
   "outputs": [
    {
     "data": {
      "text/html": [
       "<div>\n",
       "<style scoped>\n",
       "    .dataframe tbody tr th:only-of-type {\n",
       "        vertical-align: middle;\n",
       "    }\n",
       "\n",
       "    .dataframe tbody tr th {\n",
       "        vertical-align: top;\n",
       "    }\n",
       "\n",
       "    .dataframe thead th {\n",
       "        text-align: right;\n",
       "    }\n",
       "</style>\n",
       "<table border=\"1\" class=\"dataframe\">\n",
       "  <thead>\n",
       "    <tr style=\"text-align: right;\">\n",
       "      <th></th>\n",
       "      <th>sentiment</th>\n",
       "      <th>content</th>\n",
       "    </tr>\n",
       "  </thead>\n",
       "  <tbody>\n",
       "    <tr>\n",
       "      <th>2419</th>\n",
       "      <td>worry</td>\n",
       "      <td>at hannah montana set.... im missing tennessee...</td>\n",
       "    </tr>\n",
       "    <tr>\n",
       "      <th>3869</th>\n",
       "      <td>neutral</td>\n",
       "      <td>@ThinkReferrals oh man I'm jealous!  just got it?</td>\n",
       "    </tr>\n",
       "    <tr>\n",
       "      <th>5045</th>\n",
       "      <td>love</td>\n",
       "      <td>Happy Mother's Day!</td>\n",
       "    </tr>\n",
       "    <tr>\n",
       "      <th>5792</th>\n",
       "      <td>neutral</td>\n",
       "      <td>Work...</td>\n",
       "    </tr>\n",
       "    <tr>\n",
       "      <th>6105</th>\n",
       "      <td>happiness</td>\n",
       "      <td>Happy Mothers Day</td>\n",
       "    </tr>\n",
       "    <tr>\n",
       "      <th>6110</th>\n",
       "      <td>love</td>\n",
       "      <td>I just received a mothers day card from my lov...</td>\n",
       "    </tr>\n",
       "    <tr>\n",
       "      <th>6301</th>\n",
       "      <td>love</td>\n",
       "      <td>Good Morning</td>\n",
       "    </tr>\n",
       "    <tr>\n",
       "      <th>6727</th>\n",
       "      <td>sadness</td>\n",
       "      <td>Happy Mothers Day</td>\n",
       "    </tr>\n",
       "    <tr>\n",
       "      <th>7089</th>\n",
       "      <td>love</td>\n",
       "      <td>FREE UNLIMITED RINGTONES!!! - http://tinyurl.c...</td>\n",
       "    </tr>\n",
       "    <tr>\n",
       "      <th>7207</th>\n",
       "      <td>happiness</td>\n",
       "      <td>FREE UNLIMITED RINGTONES!!! - http://tinyurl.c...</td>\n",
       "    </tr>\n",
       "    <tr>\n",
       "      <th>10682</th>\n",
       "      <td>happiness</td>\n",
       "      <td>happy mother's day</td>\n",
       "    </tr>\n",
       "    <tr>\n",
       "      <th>10892</th>\n",
       "      <td>love</td>\n",
       "      <td>happy mothers day</td>\n",
       "    </tr>\n",
       "    <tr>\n",
       "      <th>12018</th>\n",
       "      <td>surprise</td>\n",
       "      <td>Happy Mother's Day!</td>\n",
       "    </tr>\n",
       "    <tr>\n",
       "      <th>12377</th>\n",
       "      <td>neutral</td>\n",
       "      <td>Off to work</td>\n",
       "    </tr>\n",
       "    <tr>\n",
       "      <th>12648</th>\n",
       "      <td>happiness</td>\n",
       "      <td>happy mothers day</td>\n",
       "    </tr>\n",
       "    <tr>\n",
       "      <th>13124</th>\n",
       "      <td>happiness</td>\n",
       "      <td>@DougieMcfly Haha dude, we have the same b-dat...</td>\n",
       "    </tr>\n",
       "    <tr>\n",
       "      <th>14913</th>\n",
       "      <td>worry</td>\n",
       "      <td>is upset, I left my phone at home again</td>\n",
       "    </tr>\n",
       "    <tr>\n",
       "      <th>14943</th>\n",
       "      <td>neutral</td>\n",
       "      <td>Getting a little mowing the grass in this even...</td>\n",
       "    </tr>\n",
       "    <tr>\n",
       "      <th>15781</th>\n",
       "      <td>happiness</td>\n",
       "      <td>Good morning everyone</td>\n",
       "    </tr>\n",
       "    <tr>\n",
       "      <th>15923</th>\n",
       "      <td>neutral</td>\n",
       "      <td>why am i so tired?</td>\n",
       "    </tr>\n",
       "    <tr>\n",
       "      <th>16247</th>\n",
       "      <td>neutral</td>\n",
       "      <td>Happy Mothers Day</td>\n",
       "    </tr>\n",
       "    <tr>\n",
       "      <th>16330</th>\n",
       "      <td>sadness</td>\n",
       "      <td>we're getting another puppy  ... not cool... r...</td>\n",
       "    </tr>\n",
       "    <tr>\n",
       "      <th>16720</th>\n",
       "      <td>happiness</td>\n",
       "      <td>http://snipurl.com/hq0n1 Just printed my mom a...</td>\n",
       "    </tr>\n",
       "    <tr>\n",
       "      <th>17806</th>\n",
       "      <td>worry</td>\n",
       "      <td>my tummy hurts</td>\n",
       "    </tr>\n",
       "    <tr>\n",
       "      <th>18364</th>\n",
       "      <td>neutral</td>\n",
       "      <td>Happy Mothers Day!</td>\n",
       "    </tr>\n",
       "    <tr>\n",
       "      <th>19008</th>\n",
       "      <td>surprise</td>\n",
       "      <td>Not to worry, noone got that one. Next questio...</td>\n",
       "    </tr>\n",
       "    <tr>\n",
       "      <th>19176</th>\n",
       "      <td>worry</td>\n",
       "      <td>@DougieMcfly Haha dude, we have the same b-dat...</td>\n",
       "    </tr>\n",
       "    <tr>\n",
       "      <th>19316</th>\n",
       "      <td>surprise</td>\n",
       "      <td>my tummy hurts</td>\n",
       "    </tr>\n",
       "    <tr>\n",
       "      <th>19859</th>\n",
       "      <td>nuetral</td>\n",
       "      <td>http://snipurl.com/hq0n1 Just printed my mom a...</td>\n",
       "    </tr>\n",
       "    <tr>\n",
       "      <th>20657</th>\n",
       "      <td>worry</td>\n",
       "      <td>i have a headache</td>\n",
       "    </tr>\n",
       "    <tr>\n",
       "      <th>21761</th>\n",
       "      <td>neutral</td>\n",
       "      <td>work all day</td>\n",
       "    </tr>\n",
       "    <tr>\n",
       "      <th>22362</th>\n",
       "      <td>neutral</td>\n",
       "      <td>Good morning</td>\n",
       "    </tr>\n",
       "    <tr>\n",
       "      <th>23099</th>\n",
       "      <td>love</td>\n",
       "      <td>Happy Mother's Day to all the moms out there!</td>\n",
       "    </tr>\n",
       "    <tr>\n",
       "      <th>23369</th>\n",
       "      <td>neutral</td>\n",
       "      <td>Geoff posted a boo: Coming Home From Tenerife ...</td>\n",
       "    </tr>\n",
       "    <tr>\n",
       "      <th>24502</th>\n",
       "      <td>happiness</td>\n",
       "      <td>happy star wars day</td>\n",
       "    </tr>\n",
       "    <tr>\n",
       "      <th>25293</th>\n",
       "      <td>worry</td>\n",
       "      <td>My head hurts</td>\n",
       "    </tr>\n",
       "    <tr>\n",
       "      <th>25432</th>\n",
       "      <td>worry</td>\n",
       "      <td>hey @mitchelmusso please reply me, i can't cal...</td>\n",
       "    </tr>\n",
       "  </tbody>\n",
       "</table>\n",
       "</div>"
      ],
      "text/plain": [
       "       sentiment                                            content\n",
       "2419       worry  at hannah montana set.... im missing tennessee...\n",
       "3869     neutral  @ThinkReferrals oh man I'm jealous!  just got it?\n",
       "5045        love                                Happy Mother's Day!\n",
       "5792     neutral                                            Work...\n",
       "6105   happiness                                  Happy Mothers Day\n",
       "6110        love  I just received a mothers day card from my lov...\n",
       "6301        love                                       Good Morning\n",
       "6727     sadness                                  Happy Mothers Day\n",
       "7089        love  FREE UNLIMITED RINGTONES!!! - http://tinyurl.c...\n",
       "7207   happiness  FREE UNLIMITED RINGTONES!!! - http://tinyurl.c...\n",
       "10682  happiness                                 happy mother's day\n",
       "10892       love                                  happy mothers day\n",
       "12018   surprise                                Happy Mother's Day!\n",
       "12377    neutral                                        Off to work\n",
       "12648  happiness                                  happy mothers day\n",
       "13124  happiness  @DougieMcfly Haha dude, we have the same b-dat...\n",
       "14913      worry            is upset, I left my phone at home again\n",
       "14943    neutral  Getting a little mowing the grass in this even...\n",
       "15781  happiness                              Good morning everyone\n",
       "15923    neutral                                 why am i so tired?\n",
       "16247    neutral                                  Happy Mothers Day\n",
       "16330    sadness  we're getting another puppy  ... not cool... r...\n",
       "16720  happiness  http://snipurl.com/hq0n1 Just printed my mom a...\n",
       "17806      worry                                     my tummy hurts\n",
       "18364    neutral                                 Happy Mothers Day!\n",
       "19008   surprise  Not to worry, noone got that one. Next questio...\n",
       "19176      worry  @DougieMcfly Haha dude, we have the same b-dat...\n",
       "19316   surprise                                     my tummy hurts\n",
       "19859    nuetral  http://snipurl.com/hq0n1 Just printed my mom a...\n",
       "20657      worry                                  i have a headache\n",
       "21761    neutral                                       work all day\n",
       "22362    neutral                                       Good morning\n",
       "23099       love      Happy Mother's Day to all the moms out there!\n",
       "23369    neutral  Geoff posted a boo: Coming Home From Tenerife ...\n",
       "24502  happiness                                happy star wars day\n",
       "25293      worry                                      My head hurts\n",
       "25432      worry  hey @mitchelmusso please reply me, i can't cal..."
      ]
     },
     "execution_count": 85,
     "metadata": {},
     "output_type": "execute_result"
    }
   ],
   "source": [
    "df_train[df_train['content'].duplicated() == True]"
   ]
  },
  {
   "cell_type": "code",
   "execution_count": 86,
   "id": "5a7b020a-e6a7-422b-879e-94fb3a6068dd",
   "metadata": {
    "tags": []
   },
   "outputs": [],
   "source": [
    "index = df_train[df_train['content'].duplicated() == True].index\n",
    "df_train.drop(index, axis = 0, inplace = True)\n",
    "df_train.reset_index(inplace=True, drop = True)"
   ]
  },
  {
   "cell_type": "code",
   "execution_count": 87,
   "id": "def92f4d-e4d3-4443-aeb5-71f1401a2e3f",
   "metadata": {
    "tags": []
   },
   "outputs": [
    {
     "data": {
      "text/plain": [
       "0"
      ]
     },
     "execution_count": 87,
     "metadata": {},
     "output_type": "execute_result"
    }
   ],
   "source": [
    "df_train.duplicated().sum()"
   ]
  },
  {
   "cell_type": "code",
   "execution_count": 88,
   "id": "0ee328dc-275f-4dcf-8b69-414baecceb1d",
   "metadata": {
    "tags": []
   },
   "outputs": [
    {
     "data": {
      "text/html": [
       "<div>\n",
       "<style scoped>\n",
       "    .dataframe tbody tr th:only-of-type {\n",
       "        vertical-align: middle;\n",
       "    }\n",
       "\n",
       "    .dataframe tbody tr th {\n",
       "        vertical-align: top;\n",
       "    }\n",
       "\n",
       "    .dataframe thead th {\n",
       "        text-align: right;\n",
       "    }\n",
       "</style>\n",
       "<table border=\"1\" class=\"dataframe\">\n",
       "  <thead>\n",
       "    <tr style=\"text-align: right;\">\n",
       "      <th></th>\n",
       "      <th>sentiment</th>\n",
       "      <th>content</th>\n",
       "    </tr>\n",
       "  </thead>\n",
       "  <tbody>\n",
       "  </tbody>\n",
       "</table>\n",
       "</div>"
      ],
      "text/plain": [
       "Empty DataFrame\n",
       "Columns: [sentiment, content]\n",
       "Index: []"
      ]
     },
     "execution_count": 88,
     "metadata": {},
     "output_type": "execute_result"
    }
   ],
   "source": [
    "df_train[df_train['content'].duplicated() == True]"
   ]
  },
  {
   "cell_type": "code",
   "execution_count": 89,
   "id": "ed683619-973c-4288-93d3-027ba290537f",
   "metadata": {
    "tags": []
   },
   "outputs": [
    {
     "name": "stderr",
     "output_type": "stream",
     "text": [
      "[nltk_data] Downloading package stopwords to /home/jay/nltk_data...\n",
      "[nltk_data]   Package stopwords is already up-to-date!\n"
     ]
    }
   ],
   "source": [
    "import nltk\n",
    "from nltk.corpus import stopwords\n",
    "from nltk.stem import SnowballStemmer, WordNetLemmatizer\n",
    "\n",
    "nltk.download('stopwords') \n",
    "stop_words = set(stopwords.words(\"english\"))\n",
    "lemmatizer= WordNetLemmatizer()"
   ]
  },
  {
   "cell_type": "code",
   "execution_count": 90,
   "id": "246c7a44-2873-472c-9377-5fe9cd35859f",
   "metadata": {
    "tags": []
   },
   "outputs": [
    {
     "data": {
      "text/plain": [
       "stop_words\n",
       "2     3510\n",
       "3     3449\n",
       "4     3139\n",
       "1     2977\n",
       "5     2711\n",
       "6     2399\n",
       "0     2289\n",
       "7     1778\n",
       "8     1307\n",
       "9      855\n",
       "10     580\n",
       "11     271\n",
       "12     150\n",
       "13      77\n",
       "14      24\n",
       "15       3\n",
       "16       1\n",
       "Name: count, dtype: int64"
      ]
     },
     "execution_count": 90,
     "metadata": {},
     "output_type": "execute_result"
    }
   ],
   "source": [
    "temp =df_train.copy()\n",
    "stop_words = set(stopwords.words(\"english\"))\n",
    "temp['stop_words'] = temp['content'].apply(lambda x: len(set(x.split()) & set(stop_words)))\n",
    "temp.stop_words.value_counts()"
   ]
  },
  {
   "cell_type": "markdown",
   "id": "fce4b92d-0e80-4b4a-a2fb-a4ed745d0042",
   "metadata": {},
   "source": [
    "### Test set"
   ]
  },
  {
   "cell_type": "code",
   "execution_count": 91,
   "id": "30d12476-d683-473a-bf6b-7a75a954f81d",
   "metadata": {
    "tags": []
   },
   "outputs": [
    {
     "data": {
      "text/plain": [
       "sentiment\n",
       "neutral      1896\n",
       "worry        1692\n",
       "happiness    1586\n",
       "sadness      1057\n",
       "love          780\n",
       "surprise      399\n",
       "nuetral       307\n",
       "hate          283\n",
       "Name: count, dtype: int64"
      ]
     },
     "execution_count": 91,
     "metadata": {},
     "output_type": "execute_result"
    }
   ],
   "source": [
    "df_test.sentiment.value_counts()"
   ]
  },
  {
   "cell_type": "code",
   "execution_count": 92,
   "id": "5ac2d2ca-f52d-4cda-ae39-797b727a5fd0",
   "metadata": {
    "tags": []
   },
   "outputs": [
    {
     "data": {
      "text/plain": [
       "sentiment\n",
       "neutral      7.429467\n",
       "worry        6.630094\n",
       "happiness    6.214734\n",
       "sadness      4.141850\n",
       "love         3.056426\n",
       "surprise     1.563480\n",
       "nuetral      1.202978\n",
       "hate         1.108934\n",
       "Name: count, dtype: float64"
      ]
     },
     "execution_count": 92,
     "metadata": {},
     "output_type": "execute_result"
    }
   ],
   "source": [
    "df_test.sentiment.value_counts() / df_train.shape[0] *100"
   ]
  },
  {
   "cell_type": "code",
   "execution_count": 93,
   "id": "c3934c2e-9e72-4bcb-8fcd-9ab9363503b6",
   "metadata": {
    "tags": []
   },
   "outputs": [
    {
     "data": {
      "image/png": "[encoded data removed]",
      "text/plain": [
       "<Figure size 1200x400 with 1 Axes>"
      ]
     },
     "metadata": {},
     "output_type": "display_data"
    }
   ],
   "source": [
    "plt.figure(figsize=(12,4))\n",
    "sns.countplot(x='sentiment', data=df_test);\n"
   ]
  },
  {
   "cell_type": "code",
   "execution_count": 94,
   "id": "92e6ce69-2a42-4f2c-b42e-be00d908af1a",
   "metadata": {
    "tags": []
   },
   "outputs": [
    {
     "data": {
      "text/plain": [
       "sentiment    0\n",
       "content      0\n",
       "dtype: int64"
      ]
     },
     "execution_count": 94,
     "metadata": {},
     "output_type": "execute_result"
    }
   ],
   "source": [
    "df_test.isnull().sum()"
   ]
  },
  {
   "cell_type": "code",
   "execution_count": 95,
   "id": "81aa75b2-3007-4b6c-99e5-15e7c329755f",
   "metadata": {
    "tags": []
   },
   "outputs": [
    {
     "data": {
      "text/plain": [
       "13"
      ]
     },
     "execution_count": 95,
     "metadata": {},
     "output_type": "execute_result"
    }
   ],
   "source": [
    "df_test.duplicated().sum()"
   ]
  },
  {
   "cell_type": "code",
   "execution_count": 96,
   "id": "c08b3947-f6e7-4280-8aef-058de5c6beac",
   "metadata": {
    "tags": []
   },
   "outputs": [
    {
     "data": {
      "text/html": [
       "<div>\n",
       "<style scoped>\n",
       "    .dataframe tbody tr th:only-of-type {\n",
       "        vertical-align: middle;\n",
       "    }\n",
       "\n",
       "    .dataframe tbody tr th {\n",
       "        vertical-align: top;\n",
       "    }\n",
       "\n",
       "    .dataframe thead th {\n",
       "        text-align: right;\n",
       "    }\n",
       "</style>\n",
       "<table border=\"1\" class=\"dataframe\">\n",
       "  <thead>\n",
       "    <tr style=\"text-align: right;\">\n",
       "      <th></th>\n",
       "      <th>sentiment</th>\n",
       "      <th>content</th>\n",
       "    </tr>\n",
       "  </thead>\n",
       "  <tbody>\n",
       "    <tr>\n",
       "      <th>38508</th>\n",
       "      <td>love</td>\n",
       "      <td>Happy Mothers Day</td>\n",
       "    </tr>\n",
       "    <tr>\n",
       "      <th>33496</th>\n",
       "      <td>love</td>\n",
       "      <td>I just received a mothers day card from my lov...</td>\n",
       "    </tr>\n",
       "    <tr>\n",
       "      <th>35609</th>\n",
       "      <td>love</td>\n",
       "      <td>I just received a mothers day card from my lov...</td>\n",
       "    </tr>\n",
       "    <tr>\n",
       "      <th>38311</th>\n",
       "      <td>love</td>\n",
       "      <td>happy mother's day</td>\n",
       "    </tr>\n",
       "    <tr>\n",
       "      <th>39859</th>\n",
       "      <td>love</td>\n",
       "      <td>Happy Mothers Day</td>\n",
       "    </tr>\n",
       "    <tr>\n",
       "      <th>32862</th>\n",
       "      <td>neutral</td>\n",
       "      <td>Just cleaned mii scrolly ball!</td>\n",
       "    </tr>\n",
       "    <tr>\n",
       "      <th>24562</th>\n",
       "      <td>happiness</td>\n",
       "      <td>Happy Star Wars Day</td>\n",
       "    </tr>\n",
       "    <tr>\n",
       "      <th>37312</th>\n",
       "      <td>love</td>\n",
       "      <td>happy mother's day</td>\n",
       "    </tr>\n",
       "    <tr>\n",
       "      <th>13491</th>\n",
       "      <td>worry</td>\n",
       "      <td>Headache</td>\n",
       "    </tr>\n",
       "    <tr>\n",
       "      <th>35051</th>\n",
       "      <td>love</td>\n",
       "      <td>I just received a mothers day card from my lov...</td>\n",
       "    </tr>\n",
       "    <tr>\n",
       "      <th>147</th>\n",
       "      <td>nuetral</td>\n",
       "      <td>I'm at work</td>\n",
       "    </tr>\n",
       "    <tr>\n",
       "      <th>24027</th>\n",
       "      <td>neutral</td>\n",
       "      <td>may the 4th be with you</td>\n",
       "    </tr>\n",
       "    <tr>\n",
       "      <th>39600</th>\n",
       "      <td>love</td>\n",
       "      <td>http://snipurl.com/hq0n1 Just printed my mom a...</td>\n",
       "    </tr>\n",
       "    <tr>\n",
       "      <th>39898</th>\n",
       "      <td>love</td>\n",
       "      <td>happy mothers day!</td>\n",
       "    </tr>\n",
       "    <tr>\n",
       "      <th>30386</th>\n",
       "      <td>love</td>\n",
       "      <td>Happy Mothers Day</td>\n",
       "    </tr>\n",
       "    <tr>\n",
       "      <th>6591</th>\n",
       "      <td>sadness</td>\n",
       "      <td>Headache</td>\n",
       "    </tr>\n",
       "    <tr>\n",
       "      <th>33353</th>\n",
       "      <td>happiness</td>\n",
       "      <td>FREE UNLIMITED RINGTONES!!! - http://tinyurl.c...</td>\n",
       "    </tr>\n",
       "    <tr>\n",
       "      <th>38808</th>\n",
       "      <td>happiness</td>\n",
       "      <td>Good Morning Everyone</td>\n",
       "    </tr>\n",
       "    <tr>\n",
       "      <th>33370</th>\n",
       "      <td>neutral</td>\n",
       "      <td>FREE UNLIMITED RINGTONES!!! - http://tinyurl.c...</td>\n",
       "    </tr>\n",
       "    <tr>\n",
       "      <th>34593</th>\n",
       "      <td>happiness</td>\n",
       "      <td>happy mother's day</td>\n",
       "    </tr>\n",
       "    <tr>\n",
       "      <th>37060</th>\n",
       "      <td>love</td>\n",
       "      <td>Happy Mothers Day</td>\n",
       "    </tr>\n",
       "    <tr>\n",
       "      <th>32972</th>\n",
       "      <td>worry</td>\n",
       "      <td>Happy mothers day!</td>\n",
       "    </tr>\n",
       "    <tr>\n",
       "      <th>324</th>\n",
       "      <td>sadness</td>\n",
       "      <td>I feel so deflated. No more doggy.</td>\n",
       "    </tr>\n",
       "  </tbody>\n",
       "</table>\n",
       "</div>"
      ],
      "text/plain": [
       "       sentiment                                            content\n",
       "38508       love                                  Happy Mothers Day\n",
       "33496       love  I just received a mothers day card from my lov...\n",
       "35609       love  I just received a mothers day card from my lov...\n",
       "38311       love                                 happy mother's day\n",
       "39859       love                                  Happy Mothers Day\n",
       "32862    neutral                     Just cleaned mii scrolly ball!\n",
       "24562  happiness                                Happy Star Wars Day\n",
       "37312       love                                 happy mother's day\n",
       "13491      worry                                           Headache\n",
       "35051       love  I just received a mothers day card from my lov...\n",
       "147      nuetral                                        I'm at work\n",
       "24027    neutral                            may the 4th be with you\n",
       "39600       love  http://snipurl.com/hq0n1 Just printed my mom a...\n",
       "39898       love                                 happy mothers day!\n",
       "30386       love                                  Happy Mothers Day\n",
       "6591     sadness                                           Headache\n",
       "33353  happiness  FREE UNLIMITED RINGTONES!!! - http://tinyurl.c...\n",
       "38808  happiness                              Good Morning Everyone\n",
       "33370    neutral  FREE UNLIMITED RINGTONES!!! - http://tinyurl.c...\n",
       "34593  happiness                                 happy mother's day\n",
       "37060       love                                  Happy Mothers Day\n",
       "32972      worry                                 Happy mothers day!\n",
       "324      sadness                 I feel so deflated. No more doggy."
      ]
     },
     "execution_count": 96,
     "metadata": {},
     "output_type": "execute_result"
    }
   ],
   "source": [
    "df_test[df_test['content'].duplicated() == True]"
   ]
  },
  {
   "cell_type": "code",
   "execution_count": 97,
   "id": "0f7bf141-a1a1-4efe-a2dd-0d05c40355ea",
   "metadata": {
    "tags": []
   },
   "outputs": [
    {
     "data": {
      "text/plain": [
       "stop_words\n",
       "2     1085\n",
       "3     1077\n",
       "4      991\n",
       "1      947\n",
       "5      865\n",
       "0      745\n",
       "6      711\n",
       "7      560\n",
       "8      399\n",
       "9      276\n",
       "10     194\n",
       "11      84\n",
       "12      40\n",
       "13      22\n",
       "17       2\n",
       "15       1\n",
       "14       1\n",
       "Name: count, dtype: int64"
      ]
     },
     "execution_count": 97,
     "metadata": {},
     "output_type": "execute_result"
    }
   ],
   "source": [
    "temp =df_test.copy()\n",
    "temp['stop_words'] = temp['content'].apply(lambda x: len(set(x.split()) & set(stop_words)))\n",
    "temp.stop_words.value_counts()"
   ]
  },
  {
   "cell_type": "code",
   "execution_count": 98,
   "id": "a05aca42-c5c2-4f16-baa3-fc6284a3ace5",
   "metadata": {
    "tags": []
   },
   "outputs": [
    {
     "data": {
      "text/plain": [
       "<Axes: ylabel='Frequency'>"
      ]
     },
     "execution_count": 98,
     "metadata": {},
     "output_type": "execute_result"
    },
    {
     "data": {
      "image/png": "[encoded data removed]",
      "text/plain": [
       "<Figure size 640x480 with 1 Axes>"
      ]
     },
     "metadata": {},
     "output_type": "display_data"
    }
   ],
   "source": [
    "sns.set(font_scale=1.3)\n",
    "temp['stop_words'].plot(kind= 'hist')"
   ]
  },
  {
   "cell_type": "markdown",
   "id": "a52d2d09-d5a0-480f-8673-bd046cac6ca9",
   "metadata": {
    "tags": []
   },
   "source": [
    "### Validation set"
   ]
  },
  {
   "cell_type": "code",
   "execution_count": 99,
   "id": "4d372711-b045-439c-9a01-c120ca5ec140",
   "metadata": {
    "tags": []
   },
   "outputs": [
    {
     "data": {
      "text/plain": [
       "sentiment\n",
       "neutral      1500\n",
       "worry        1365\n",
       "happiness    1247\n",
       "sadness       798\n",
       "love          650\n",
       "surprise      353\n",
       "hate          247\n",
       "nuetral       240\n",
       "Name: count, dtype: int64"
      ]
     },
     "execution_count": 99,
     "metadata": {},
     "output_type": "execute_result"
    }
   ],
   "source": [
    "df_val.sentiment.value_counts()"
   ]
  },
  {
   "cell_type": "code",
   "execution_count": 100,
   "id": "24ef5482-2aee-40e7-adff-fe909f5834ac",
   "metadata": {
    "tags": []
   },
   "outputs": [
    {
     "data": {
      "image/png": "[encoded data removed]",
      "text/plain": [
       "<Figure size 2000x600 with 1 Axes>"
      ]
     },
     "metadata": {},
     "output_type": "display_data"
    }
   ],
   "source": [
    "plt.figure(figsize=(20,6))\n",
    "sns.countplot(x='sentiment', data=df_val);"
   ]
  },
  {
   "cell_type": "code",
   "execution_count": 101,
   "id": "003ffbfc-c13b-4e51-93e9-496614eff99b",
   "metadata": {
    "tags": []
   },
   "outputs": [
    {
     "data": {
      "text/plain": [
       "sentiment    0\n",
       "content      0\n",
       "dtype: int64"
      ]
     },
     "execution_count": 101,
     "metadata": {},
     "output_type": "execute_result"
    }
   ],
   "source": [
    "df_val.isnull().sum()"
   ]
  },
  {
   "cell_type": "code",
   "execution_count": 102,
   "id": "26eb0ca2-cc50-4e56-b6b1-7669f2832a89",
   "metadata": {
    "tags": []
   },
   "outputs": [
    {
     "data": {
      "text/plain": [
       "2"
      ]
     },
     "execution_count": 102,
     "metadata": {},
     "output_type": "execute_result"
    }
   ],
   "source": [
    "df_val.duplicated().sum()"
   ]
  },
  {
   "cell_type": "code",
   "execution_count": 103,
   "id": "e5e94038-310a-4d0a-aa1f-ff8e57de7e1b",
   "metadata": {
    "tags": []
   },
   "outputs": [
    {
     "data": {
      "text/html": [
       "<div>\n",
       "<style scoped>\n",
       "    .dataframe tbody tr th:only-of-type {\n",
       "        vertical-align: middle;\n",
       "    }\n",
       "\n",
       "    .dataframe tbody tr th {\n",
       "        vertical-align: top;\n",
       "    }\n",
       "\n",
       "    .dataframe thead th {\n",
       "        text-align: right;\n",
       "    }\n",
       "</style>\n",
       "<table border=\"1\" class=\"dataframe\">\n",
       "  <thead>\n",
       "    <tr style=\"text-align: right;\">\n",
       "      <th></th>\n",
       "      <th>sentiment</th>\n",
       "      <th>content</th>\n",
       "    </tr>\n",
       "  </thead>\n",
       "  <tbody>\n",
       "    <tr>\n",
       "      <th>38557</th>\n",
       "      <td>love</td>\n",
       "      <td>http://snipurl.com/hq0n1 Just printed my mom a...</td>\n",
       "    </tr>\n",
       "    <tr>\n",
       "      <th>33401</th>\n",
       "      <td>nuetral</td>\n",
       "      <td>FREE UNLIMITED RINGTONES!!! - http://tinyurl.c...</td>\n",
       "    </tr>\n",
       "    <tr>\n",
       "      <th>33457</th>\n",
       "      <td>love</td>\n",
       "      <td>happy mother's day</td>\n",
       "    </tr>\n",
       "    <tr>\n",
       "      <th>33693</th>\n",
       "      <td>love</td>\n",
       "      <td>I just received a mothers day card from my lov...</td>\n",
       "    </tr>\n",
       "    <tr>\n",
       "      <th>32734</th>\n",
       "      <td>happiness</td>\n",
       "      <td>happy mother's day!</td>\n",
       "    </tr>\n",
       "    <tr>\n",
       "      <th>37777</th>\n",
       "      <td>happiness</td>\n",
       "      <td>@andyclemmensen have you seen the game on the ...</td>\n",
       "    </tr>\n",
       "  </tbody>\n",
       "</table>\n",
       "</div>"
      ],
      "text/plain": [
       "       sentiment                                            content\n",
       "38557       love  http://snipurl.com/hq0n1 Just printed my mom a...\n",
       "33401    nuetral  FREE UNLIMITED RINGTONES!!! - http://tinyurl.c...\n",
       "33457       love                                 happy mother's day\n",
       "33693       love  I just received a mothers day card from my lov...\n",
       "32734  happiness                                happy mother's day!\n",
       "37777  happiness  @andyclemmensen have you seen the game on the ..."
      ]
     },
     "execution_count": 103,
     "metadata": {},
     "output_type": "execute_result"
    }
   ],
   "source": [
    "df_val[df_val['content'].duplicated() == True]"
   ]
  },
  {
   "cell_type": "code",
   "execution_count": 104,
   "id": "75317614-9b4f-48e9-930e-b4fd0b1e6898",
   "metadata": {
    "tags": []
   },
   "outputs": [],
   "source": [
    "index = df_val[df_val['content'].duplicated() == True].index\n",
    "df_val.drop(index, axis = 0, inplace = True)\n",
    "df_val.reset_index(inplace=True, drop = True)"
   ]
  },
  {
   "cell_type": "code",
   "execution_count": 105,
   "id": "4b7fcfbf-a93b-4f27-b24b-354cc00d198f",
   "metadata": {
    "tags": []
   },
   "outputs": [
    {
     "data": {
      "text/plain": [
       "stop_words\n",
       "0    6394\n",
       "Name: count, dtype: int64"
      ]
     },
     "execution_count": 105,
     "metadata": {},
     "output_type": "execute_result"
    }
   ],
   "source": [
    "temp =df_val.copy()\n",
    "temp['stop_words'] = temp['sentiment'].apply(lambda x: len(set(x.split()) & set(stop_words)))\n",
    "temp.stop_words.value_counts()"
   ]
  },
  {
   "cell_type": "markdown",
   "id": "f7f29869-3c6d-4c0b-9a7a-a350609fdb9e",
   "metadata": {},
   "source": [
    "### Comparing sets"
   ]
  },
  {
   "cell_type": "code",
   "execution_count": 106,
   "id": "d7acbf88-a0e7-4d46-a7d4-19d957c28846",
   "metadata": {
    "tags": []
   },
   "outputs": [],
   "source": [
    "def dataframe_difference(df1, df2, which=None):\n",
    "    \"\"\"Find rows which are different between two DataFrames.\"\"\"\n",
    "    \n",
    "    # Combine the two DataFrames using a merge operation, with the\n",
    "    # indicator parameter set to True. This adds a column called _merge\n",
    "    # to the resulting DataFrame, which indicates the source of each row.\n",
    "    comparison_df = df1.merge(\n",
    "        df2,\n",
    "        indicator=True,\n",
    "        how='outer'\n",
    "    )\n",
    "    \n",
    "    # Filter the merged DataFrame based on the value of _merge. If which\n",
    "    # is not specified, return all rows where _merge is not 'both'.\n",
    "    # Otherwise, return all rows where _merge has the specified value\n",
    "    if which is None:\n",
    "        diff_df = comparison_df[comparison_df['_merge'] != 'both']\n",
    "    else:\n",
    "        diff_df = comparison_df[comparison_df['_merge'] == which]\n",
    "        \n",
    "    # Return the filtered DataFrame\n",
    "    return diff_df"
   ]
  },
  {
   "cell_type": "code",
   "execution_count": 107,
   "id": "b9dff02b-9427-4c8e-a160-6b3313ab49ea",
   "metadata": {
    "tags": []
   },
   "outputs": [
    {
     "data": {
      "text/html": [
       "<div>\n",
       "<style scoped>\n",
       "    .dataframe tbody tr th:only-of-type {\n",
       "        vertical-align: middle;\n",
       "    }\n",
       "\n",
       "    .dataframe tbody tr th {\n",
       "        vertical-align: top;\n",
       "    }\n",
       "\n",
       "    .dataframe thead th {\n",
       "        text-align: right;\n",
       "    }\n",
       "</style>\n",
       "<table border=\"1\" class=\"dataframe\">\n",
       "  <thead>\n",
       "    <tr style=\"text-align: right;\">\n",
       "      <th></th>\n",
       "      <th>sentiment</th>\n",
       "      <th>content</th>\n",
       "      <th>_merge</th>\n",
       "    </tr>\n",
       "  </thead>\n",
       "  <tbody>\n",
       "    <tr>\n",
       "      <th>234</th>\n",
       "      <td>neutral</td>\n",
       "      <td>about to go to sleep</td>\n",
       "      <td>both</td>\n",
       "    </tr>\n",
       "    <tr>\n",
       "      <th>558</th>\n",
       "      <td>neutral</td>\n",
       "      <td>@smashingpumpkin http://twitpic.com/67h72 -</td>\n",
       "      <td>both</td>\n",
       "    </tr>\n",
       "    <tr>\n",
       "      <th>1456</th>\n",
       "      <td>neutral</td>\n",
       "      <td>Good Morning</td>\n",
       "      <td>both</td>\n",
       "    </tr>\n",
       "    <tr>\n",
       "      <th>3034</th>\n",
       "      <td>love</td>\n",
       "      <td>Happy Mothers Day</td>\n",
       "      <td>both</td>\n",
       "    </tr>\n",
       "    <tr>\n",
       "      <th>3035</th>\n",
       "      <td>love</td>\n",
       "      <td>Happy Mothers Day</td>\n",
       "      <td>both</td>\n",
       "    </tr>\n",
       "    <tr>\n",
       "      <th>3036</th>\n",
       "      <td>love</td>\n",
       "      <td>Happy Mothers Day</td>\n",
       "      <td>both</td>\n",
       "    </tr>\n",
       "    <tr>\n",
       "      <th>3037</th>\n",
       "      <td>love</td>\n",
       "      <td>Happy Mothers Day</td>\n",
       "      <td>both</td>\n",
       "    </tr>\n",
       "    <tr>\n",
       "      <th>4362</th>\n",
       "      <td>neutral</td>\n",
       "      <td>FREE UNLIMITED RINGTONES!!! - http://tinyurl.c...</td>\n",
       "      <td>both</td>\n",
       "    </tr>\n",
       "    <tr>\n",
       "      <th>5301</th>\n",
       "      <td>love</td>\n",
       "      <td>Happy Mothers Day!!</td>\n",
       "      <td>both</td>\n",
       "    </tr>\n",
       "    <tr>\n",
       "      <th>5318</th>\n",
       "      <td>love</td>\n",
       "      <td>happy mothers day mum</td>\n",
       "      <td>both</td>\n",
       "    </tr>\n",
       "    <tr>\n",
       "      <th>5603</th>\n",
       "      <td>worry</td>\n",
       "      <td>Somebody please save the polar bears!</td>\n",
       "      <td>both</td>\n",
       "    </tr>\n",
       "    <tr>\n",
       "      <th>12296</th>\n",
       "      <td>worry</td>\n",
       "      <td>@ericbolling Where's Dani Babb?</td>\n",
       "      <td>both</td>\n",
       "    </tr>\n",
       "    <tr>\n",
       "      <th>19222</th>\n",
       "      <td>love</td>\n",
       "      <td>Happy Mother's Day</td>\n",
       "      <td>both</td>\n",
       "    </tr>\n",
       "  </tbody>\n",
       "</table>\n",
       "</div>"
      ],
      "text/plain": [
       "      sentiment                                            content _merge\n",
       "234     neutral                               about to go to sleep   both\n",
       "558     neutral        @smashingpumpkin http://twitpic.com/67h72 -   both\n",
       "1456    neutral                                       Good Morning   both\n",
       "3034       love                                  Happy Mothers Day   both\n",
       "3035       love                                  Happy Mothers Day   both\n",
       "3036       love                                  Happy Mothers Day   both\n",
       "3037       love                                  Happy Mothers Day   both\n",
       "4362    neutral  FREE UNLIMITED RINGTONES!!! - http://tinyurl.c...   both\n",
       "5301       love                                Happy Mothers Day!!   both\n",
       "5318       love                              happy mothers day mum   both\n",
       "5603      worry              Somebody please save the polar bears!   both\n",
       "12296     worry                    @ericbolling Where's Dani Babb?   both\n",
       "19222      love                                 Happy Mother's Day   both"
      ]
     },
     "execution_count": 107,
     "metadata": {},
     "output_type": "execute_result"
    }
   ],
   "source": [
    "dataframe_difference(df_train, df_test, which='both')"
   ]
  },
  {
   "cell_type": "code",
   "execution_count": 108,
   "id": "4ef500c4-db84-44a7-93bf-e08c3369b57f",
   "metadata": {
    "tags": []
   },
   "outputs": [
    {
     "data": {
      "text/html": [
       "<div>\n",
       "<style scoped>\n",
       "    .dataframe tbody tr th:only-of-type {\n",
       "        vertical-align: middle;\n",
       "    }\n",
       "\n",
       "    .dataframe tbody tr th {\n",
       "        vertical-align: top;\n",
       "    }\n",
       "\n",
       "    .dataframe thead th {\n",
       "        text-align: right;\n",
       "    }\n",
       "</style>\n",
       "<table border=\"1\" class=\"dataframe\">\n",
       "  <thead>\n",
       "    <tr style=\"text-align: right;\">\n",
       "      <th></th>\n",
       "      <th>sentiment</th>\n",
       "      <th>content</th>\n",
       "      <th>_merge</th>\n",
       "    </tr>\n",
       "  </thead>\n",
       "  <tbody>\n",
       "    <tr>\n",
       "      <th>2139</th>\n",
       "      <td>neutral</td>\n",
       "      <td>nothing</td>\n",
       "      <td>both</td>\n",
       "    </tr>\n",
       "    <tr>\n",
       "      <th>3034</th>\n",
       "      <td>love</td>\n",
       "      <td>Happy Mothers Day</td>\n",
       "      <td>both</td>\n",
       "    </tr>\n",
       "    <tr>\n",
       "      <th>4359</th>\n",
       "      <td>neutral</td>\n",
       "      <td>FREE UNLIMITED RINGTONES!!! - http://tinyurl.c...</td>\n",
       "      <td>both</td>\n",
       "    </tr>\n",
       "    <tr>\n",
       "      <th>5761</th>\n",
       "      <td>happiness</td>\n",
       "      <td>May the 4th be with you</td>\n",
       "      <td>both</td>\n",
       "    </tr>\n",
       "    <tr>\n",
       "      <th>12876</th>\n",
       "      <td>love</td>\n",
       "      <td>Happy Mothers Day. Havent got mom a present ye...</td>\n",
       "      <td>both</td>\n",
       "    </tr>\n",
       "    <tr>\n",
       "      <th>14514</th>\n",
       "      <td>sadness</td>\n",
       "      <td>I miss you</td>\n",
       "      <td>both</td>\n",
       "    </tr>\n",
       "    <tr>\n",
       "      <th>19290</th>\n",
       "      <td>worry</td>\n",
       "      <td>My back hurts</td>\n",
       "      <td>both</td>\n",
       "    </tr>\n",
       "    <tr>\n",
       "      <th>19513</th>\n",
       "      <td>sadness</td>\n",
       "      <td>My tummy hurts...</td>\n",
       "      <td>both</td>\n",
       "    </tr>\n",
       "    <tr>\n",
       "      <th>23411</th>\n",
       "      <td>worry</td>\n",
       "      <td>My throat hurts</td>\n",
       "      <td>both</td>\n",
       "    </tr>\n",
       "  </tbody>\n",
       "</table>\n",
       "</div>"
      ],
      "text/plain": [
       "       sentiment                                            content _merge\n",
       "2139     neutral                                            nothing   both\n",
       "3034        love                                  Happy Mothers Day   both\n",
       "4359     neutral  FREE UNLIMITED RINGTONES!!! - http://tinyurl.c...   both\n",
       "5761   happiness                            May the 4th be with you   both\n",
       "12876       love  Happy Mothers Day. Havent got mom a present ye...   both\n",
       "14514    sadness                                         I miss you   both\n",
       "19290      worry                                      My back hurts   both\n",
       "19513    sadness                                  My tummy hurts...   both\n",
       "23411      worry                                    My throat hurts   both"
      ]
     },
     "execution_count": 108,
     "metadata": {},
     "output_type": "execute_result"
    }
   ],
   "source": [
    "dataframe_difference(df_train, df_val, which='both')"
   ]
  },
  {
   "cell_type": "code",
   "execution_count": 109,
   "id": "8faf7ce1-ba79-466c-bebf-f49e82f68c1b",
   "metadata": {
    "tags": []
   },
   "outputs": [
    {
     "data": {
      "text/html": [
       "<div>\n",
       "<style scoped>\n",
       "    .dataframe tbody tr th:only-of-type {\n",
       "        vertical-align: middle;\n",
       "    }\n",
       "\n",
       "    .dataframe tbody tr th {\n",
       "        vertical-align: top;\n",
       "    }\n",
       "\n",
       "    .dataframe thead th {\n",
       "        text-align: right;\n",
       "    }\n",
       "</style>\n",
       "<table border=\"1\" class=\"dataframe\">\n",
       "  <thead>\n",
       "    <tr style=\"text-align: right;\">\n",
       "      <th></th>\n",
       "      <th>sentiment</th>\n",
       "      <th>content</th>\n",
       "      <th>_merge</th>\n",
       "    </tr>\n",
       "  </thead>\n",
       "  <tbody>\n",
       "    <tr>\n",
       "      <th>19</th>\n",
       "      <td>love</td>\n",
       "      <td>@RealHughJackman Wolverine is awesome.. love i...</td>\n",
       "      <td>both</td>\n",
       "    </tr>\n",
       "    <tr>\n",
       "      <th>239</th>\n",
       "      <td>love</td>\n",
       "      <td>I just received a mothers day card from my lov...</td>\n",
       "      <td>both</td>\n",
       "    </tr>\n",
       "    <tr>\n",
       "      <th>240</th>\n",
       "      <td>love</td>\n",
       "      <td>I just received a mothers day card from my lov...</td>\n",
       "      <td>both</td>\n",
       "    </tr>\n",
       "    <tr>\n",
       "      <th>241</th>\n",
       "      <td>love</td>\n",
       "      <td>I just received a mothers day card from my lov...</td>\n",
       "      <td>both</td>\n",
       "    </tr>\n",
       "    <tr>\n",
       "      <th>242</th>\n",
       "      <td>love</td>\n",
       "      <td>I just received a mothers day card from my lov...</td>\n",
       "      <td>both</td>\n",
       "    </tr>\n",
       "    <tr>\n",
       "      <th>1940</th>\n",
       "      <td>love</td>\n",
       "      <td>happy mother's day</td>\n",
       "      <td>both</td>\n",
       "    </tr>\n",
       "    <tr>\n",
       "      <th>1941</th>\n",
       "      <td>love</td>\n",
       "      <td>happy mother's day</td>\n",
       "      <td>both</td>\n",
       "    </tr>\n",
       "    <tr>\n",
       "      <th>1942</th>\n",
       "      <td>love</td>\n",
       "      <td>happy mother's day</td>\n",
       "      <td>both</td>\n",
       "    </tr>\n",
       "    <tr>\n",
       "      <th>2151</th>\n",
       "      <td>love</td>\n",
       "      <td>Happy Mothers Day</td>\n",
       "      <td>both</td>\n",
       "    </tr>\n",
       "    <tr>\n",
       "      <th>2152</th>\n",
       "      <td>love</td>\n",
       "      <td>Happy Mothers Day</td>\n",
       "      <td>both</td>\n",
       "    </tr>\n",
       "    <tr>\n",
       "      <th>2153</th>\n",
       "      <td>love</td>\n",
       "      <td>Happy Mothers Day</td>\n",
       "      <td>both</td>\n",
       "    </tr>\n",
       "    <tr>\n",
       "      <th>2154</th>\n",
       "      <td>love</td>\n",
       "      <td>Happy Mothers Day</td>\n",
       "      <td>both</td>\n",
       "    </tr>\n",
       "    <tr>\n",
       "      <th>3573</th>\n",
       "      <td>love</td>\n",
       "      <td>happy mothers day</td>\n",
       "      <td>both</td>\n",
       "    </tr>\n",
       "    <tr>\n",
       "      <th>4392</th>\n",
       "      <td>worry</td>\n",
       "      <td>i have a headache</td>\n",
       "      <td>both</td>\n",
       "    </tr>\n",
       "    <tr>\n",
       "      <th>5321</th>\n",
       "      <td>happiness</td>\n",
       "      <td>Happy Star Wars Day</td>\n",
       "      <td>both</td>\n",
       "    </tr>\n",
       "    <tr>\n",
       "      <th>6289</th>\n",
       "      <td>neutral</td>\n",
       "      <td>Goodnight</td>\n",
       "      <td>both</td>\n",
       "    </tr>\n",
       "    <tr>\n",
       "      <th>6367</th>\n",
       "      <td>love</td>\n",
       "      <td>Happy mothers day!</td>\n",
       "      <td>both</td>\n",
       "    </tr>\n",
       "    <tr>\n",
       "      <th>7416</th>\n",
       "      <td>neutral</td>\n",
       "      <td>FREE UNLIMITED RINGTONES!!! - http://tinyurl.c...</td>\n",
       "      <td>both</td>\n",
       "    </tr>\n",
       "  </tbody>\n",
       "</table>\n",
       "</div>"
      ],
      "text/plain": [
       "      sentiment                                            content _merge\n",
       "19         love  @RealHughJackman Wolverine is awesome.. love i...   both\n",
       "239        love  I just received a mothers day card from my lov...   both\n",
       "240        love  I just received a mothers day card from my lov...   both\n",
       "241        love  I just received a mothers day card from my lov...   both\n",
       "242        love  I just received a mothers day card from my lov...   both\n",
       "1940       love                                 happy mother's day   both\n",
       "1941       love                                 happy mother's day   both\n",
       "1942       love                                 happy mother's day   both\n",
       "2151       love                                  Happy Mothers Day   both\n",
       "2152       love                                  Happy Mothers Day   both\n",
       "2153       love                                  Happy Mothers Day   both\n",
       "2154       love                                  Happy Mothers Day   both\n",
       "3573       love                                  happy mothers day   both\n",
       "4392      worry                                  i have a headache   both\n",
       "5321  happiness                                Happy Star Wars Day   both\n",
       "6289    neutral                                          Goodnight   both\n",
       "6367       love                                 Happy mothers day!   both\n",
       "7416    neutral  FREE UNLIMITED RINGTONES!!! - http://tinyurl.c...   both"
      ]
     },
     "execution_count": 109,
     "metadata": {},
     "output_type": "execute_result"
    }
   ],
   "source": [
    "dataframe_difference(df_test, df_val, which='both')"
   ]
  },
  {
   "cell_type": "markdown",
   "id": "17d32c03-1faa-4a5d-811e-428631190dcf",
   "metadata": {},
   "source": [
    "## Cleaning "
   ]
  },
  {
   "cell_type": "code",
   "execution_count": 110,
   "id": "43969a4f-7f38-4b65-ade7-a2ff9e449669",
   "metadata": {
    "tags": []
   },
   "outputs": [
    {
     "name": "stderr",
     "output_type": "stream",
     "text": [
      "[nltk_data] Downloading package wordnet to /home/jay/nltk_data...\n",
      "[nltk_data]   Package wordnet is already up-to-date!\n"
     ]
    }
   ],
   "source": [
    "nltk.download('wordnet')\n",
    "def lemmatization(text):\n",
    "    lemmatizer= WordNetLemmatizer()\n",
    "\n",
    "    text = text.split()\n",
    "\n",
    "    text=[lemmatizer.lemmatize(y) for y in text]\n",
    "    \n",
    "    return \" \" .join(text)"
   ]
  },
  {
   "cell_type": "code",
   "execution_count": 111,
   "id": "0b694e95-cbd7-4524-b3d8-e3568b332445",
   "metadata": {
    "tags": []
   },
   "outputs": [],
   "source": [
    "def remove_stop_words(text):\n",
    "\n",
    "    Text=[i for i in str(text).split() if i not in stop_words]\n",
    "    return \" \".join(Text)"
   ]
  },
  {
   "cell_type": "code",
   "execution_count": 112,
   "id": "83e4f9ce-d426-4fe0-b3ef-a274f77f7dab",
   "metadata": {
    "tags": []
   },
   "outputs": [],
   "source": [
    "def Removing_numbers(text):\n",
    "    text=''.join([i for i in text if not i.isdigit()])\n",
    "    return text"
   ]
  },
  {
   "cell_type": "code",
   "execution_count": 113,
   "id": "90f52f2a-2dda-4895-b4c7-809494fef50b",
   "metadata": {
    "tags": []
   },
   "outputs": [],
   "source": [
    "def lower_case(text):\n",
    "    \n",
    "    text = text.split()\n",
    "\n",
    "    text=[y.lower() for y in text]\n",
    "    \n",
    "    return \" \" .join(text)"
   ]
  },
  {
   "cell_type": "code",
   "execution_count": 114,
   "id": "e72503d3-a2a5-4e8d-aa93-4fbd0479bd25",
   "metadata": {
    "tags": []
   },
   "outputs": [],
   "source": [
    "import re\n",
    "def Removing_punctuations(text):\n",
    "    ## Remove punctuations\n",
    "    text = re.sub('[%s]' % re.escape(\"\"\"!\"#$%&'()*+,،-./:;<=>؟?@[\\]^_`{|}~\"\"\"), ' ', text)\n",
    "    text = text.replace('؛',\"\", )\n",
    "    \n",
    "    ## remove extra whitespace\n",
    "    text = re.sub('\\s+', ' ', text)\n",
    "    text =  \" \".join(text.split())\n",
    "    return text.strip()"
   ]
  },
  {
   "cell_type": "code",
   "execution_count": 115,
   "id": "c06fa746-3c1c-4381-850a-e5f599b0b803",
   "metadata": {
    "tags": []
   },
   "outputs": [],
   "source": [
    "def Removing_urls(text):\n",
    "    url_pattern = re.compile(r'https?://\\S+|www\\.\\S+')\n",
    "    return url_pattern.sub(r'', text)"
   ]
  },
  {
   "cell_type": "code",
   "execution_count": 116,
   "id": "a018b1de-3a4c-404c-96b4-4b2383a93332",
   "metadata": {
    "tags": []
   },
   "outputs": [],
   "source": [
    "def remove_small_sentences(df):\n",
    "    for i in range(len(df)):\n",
    "        if len(df.text.iloc[i].split()) < 3:\n",
    "            df.text.iloc[i] = np.nan"
   ]
  },
  {
   "cell_type": "code",
   "execution_count": 117,
   "id": "cfd7e96c-b032-4251-8996-8b2a1dc51c75",
   "metadata": {
    "tags": []
   },
   "outputs": [],
   "source": [
    "def normalize_text(df):\n",
    "    df.content=df.content.apply(lambda text : lower_case(text))\n",
    "    df.content=df.content.apply(lambda text : remove_stop_words(text))\n",
    "    df.content=df.content.apply(lambda text : Removing_numbers(text))\n",
    "    df.content=df.content.apply(lambda text : Removing_punctuations(text))\n",
    "    df.content=df.content.apply(lambda text : Removing_urls(text))\n",
    "    df.content=df.content.apply(lambda text : lemmatization(text))\n",
    "    return df"
   ]
  },
  {
   "cell_type": "code",
   "execution_count": 118,
   "id": "34c25d63-6273-4090-b90e-acf631592353",
   "metadata": {
    "tags": []
   },
   "outputs": [],
   "source": [
    "def normalized_sentence(sentence):\n",
    "    sentence= lower_case(sentence)\n",
    "    sentence= remove_stop_words(sentence)\n",
    "    sentence= Removing_numbers(sentence)\n",
    "    sentence= Removing_punctuations(sentence)\n",
    "    sentence= Removing_urls(sentence)\n",
    "    sentence= lemmatization(sentence)\n",
    "    return sentence"
   ]
  },
  {
   "cell_type": "code",
   "execution_count": 119,
   "id": "5a47643c-2b19-4aa8-913b-dddc74a3b89c",
   "metadata": {
    "tags": []
   },
   "outputs": [
    {
     "data": {
      "text/plain": [
       "'extremely busy weekend much work do c'"
      ]
     },
     "execution_count": 119,
     "metadata": {},
     "output_type": "execute_result"
    }
   ],
   "source": [
    "normalized_sentence(\"Extremely busy weekend. So much work to do. C\")"
   ]
  },
  {
   "cell_type": "code",
   "execution_count": 120,
   "id": "67d62b39-4de0-4e92-be4c-4ae04932d28e",
   "metadata": {
    "tags": []
   },
   "outputs": [],
   "source": [
    "df_train= normalize_text(df_train)\n",
    "df_test= normalize_text(df_test)\n",
    "df_val= normalize_text(df_val)"
   ]
  },
  {
   "cell_type": "code",
   "execution_count": 121,
   "id": "0b1f5df3-16f7-4eab-88bd-7761f6cd8010",
   "metadata": {
    "tags": []
   },
   "outputs": [
    {
     "data": {
      "text/html": [
       "<div>\n",
       "<style scoped>\n",
       "    .dataframe tbody tr th:only-of-type {\n",
       "        vertical-align: middle;\n",
       "    }\n",
       "\n",
       "    .dataframe tbody tr th {\n",
       "        vertical-align: top;\n",
       "    }\n",
       "\n",
       "    .dataframe thead th {\n",
       "        text-align: right;\n",
       "    }\n",
       "</style>\n",
       "<table border=\"1\" class=\"dataframe\">\n",
       "  <thead>\n",
       "    <tr style=\"text-align: right;\">\n",
       "      <th></th>\n",
       "      <th>sentiment</th>\n",
       "      <th>content</th>\n",
       "    </tr>\n",
       "  </thead>\n",
       "  <tbody>\n",
       "    <tr>\n",
       "      <th>0</th>\n",
       "      <td>happiness</td>\n",
       "      <td>incomediary sure easier login every day make p...</td>\n",
       "    </tr>\n",
       "    <tr>\n",
       "      <th>1</th>\n",
       "      <td>happiness</td>\n",
       "      <td>seat nice place go</td>\n",
       "    </tr>\n",
       "    <tr>\n",
       "      <th>2</th>\n",
       "      <td>sadness</td>\n",
       "      <td>wasnt workin hour id gettin ratarsed point cou...</td>\n",
       "    </tr>\n",
       "    <tr>\n",
       "      <th>3</th>\n",
       "      <td>happiness</td>\n",
       "      <td>kevjaffray too cloudy day madrid typical sprin...</td>\n",
       "    </tr>\n",
       "    <tr>\n",
       "      <th>4</th>\n",
       "      <td>surprise</td>\n",
       "      <td>paperclippe ipod headphone gone kaput wanted b...</td>\n",
       "    </tr>\n",
       "    <tr>\n",
       "      <th>...</th>\n",
       "      <td>...</td>\n",
       "      <td>...</td>\n",
       "    </tr>\n",
       "    <tr>\n",
       "      <th>25515</th>\n",
       "      <td>neutral</td>\n",
       "      <td>antonisha man people hard reach i ve stalking h r</td>\n",
       "    </tr>\n",
       "    <tr>\n",
       "      <th>25516</th>\n",
       "      <td>worry</td>\n",
       "      <td>remind get amp take pic blooming clematis wind...</td>\n",
       "    </tr>\n",
       "    <tr>\n",
       "      <th>25517</th>\n",
       "      <td>sadness</td>\n",
       "      <td>sometimes wish hair back</td>\n",
       "    </tr>\n",
       "    <tr>\n",
       "      <th>25518</th>\n",
       "      <td>neutral</td>\n",
       "      <td>kfc</td>\n",
       "    </tr>\n",
       "    <tr>\n",
       "      <th>25519</th>\n",
       "      <td>neutral</td>\n",
       "      <td>happy momies day http bit ly skqli</td>\n",
       "    </tr>\n",
       "  </tbody>\n",
       "</table>\n",
       "<p>25520 rows × 2 columns</p>\n",
       "</div>"
      ],
      "text/plain": [
       "       sentiment                                            content\n",
       "0      happiness  incomediary sure easier login every day make p...\n",
       "1      happiness                                 seat nice place go\n",
       "2        sadness  wasnt workin hour id gettin ratarsed point cou...\n",
       "3      happiness  kevjaffray too cloudy day madrid typical sprin...\n",
       "4       surprise  paperclippe ipod headphone gone kaput wanted b...\n",
       "...          ...                                                ...\n",
       "25515    neutral  antonisha man people hard reach i ve stalking h r\n",
       "25516      worry  remind get amp take pic blooming clematis wind...\n",
       "25517    sadness                           sometimes wish hair back\n",
       "25518    neutral                                                kfc\n",
       "25519    neutral                 happy momies day http bit ly skqli\n",
       "\n",
       "[25520 rows x 2 columns]"
      ]
     },
     "execution_count": 121,
     "metadata": {},
     "output_type": "execute_result"
    }
   ],
   "source": [
    "df_train"
   ]
  },
  {
   "cell_type": "markdown",
   "id": "9aa5b185-5807-4a72-bdc0-3937e7d10843",
   "metadata": {},
   "source": [
    "# MODEL"
   ]
  },
  {
   "cell_type": "markdown",
   "id": "68fdf364-ee25-47ca-9cd3-e27c97140cfa",
   "metadata": {},
   "source": [
    "* 0. Baseline ML model with TF-IDF\n",
    "* 1. RNN "
   ]
  },
  {
   "cell_type": "code",
   "execution_count": 122,
   "id": "7427253e-b444-43ca-ab6d-092b7aeb2204",
   "metadata": {
    "tags": []
   },
   "outputs": [],
   "source": [
    "x_train = df_train['content'].values\n",
    "y_train = df_train['sentiment'].values\n",
    "\n",
    "x_test = df_test['content'].values\n",
    "y_test = df_test['sentiment'].values\n",
    "\n",
    "x_val = df_val['content'].values\n",
    "y_val = df_val['sentiment'].values"
   ]
  },
  {
   "cell_type": "code",
   "execution_count": 123,
   "id": "4d2c749b-4417-41c5-9e10-e1ccbc49e862",
   "metadata": {
    "tags": []
   },
   "outputs": [],
   "source": [
    "from sklearn.preprocessing import LabelEncoder\n",
    "le = LabelEncoder()\n",
    "y_train = le.fit_transform(y_train)\n",
    "y_test = le.transform(y_test)\n",
    "y_val = le.transform(y_val)"
   ]
  },
  {
   "cell_type": "code",
   "execution_count": 124,
   "id": "358380b4-cf4a-47e8-9062-7be075858546",
   "metadata": {
    "tags": []
   },
   "outputs": [
    {
     "data": {
      "text/plain": [
       "array([0, 0, 5, ..., 5, 3, 3])"
      ]
     },
     "execution_count": 124,
     "metadata": {},
     "output_type": "execute_result"
    }
   ],
   "source": [
    "y_train"
   ]
  },
  {
   "cell_type": "code",
   "execution_count": 125,
   "id": "09447d33-9aec-48c2-aeb5-5e4754a0b691",
   "metadata": {
    "tags": []
   },
   "outputs": [],
   "source": [
    "from sklearn.feature_extraction.text import TfidfVectorizer\n",
    "from sklearn.pipeline import Pipeline\n",
    "\n",
    "def train_model(model, data, targets):\n",
    "    text_clf = Pipeline([('vect',TfidfVectorizer()),\n",
    "                         ('clf', model)])\n",
    "    text_clf.fit(data, targets)\n",
    "    return text_clf"
   ]
  },
  {
   "cell_type": "code",
   "execution_count": 126,
   "id": "89812554-5b62-4009-9ddd-37972c04c06b",
   "metadata": {
    "tags": []
   },
   "outputs": [],
   "source": [
    "from sklearn.ensemble import RandomForestClassifier\n",
    "model_0 = train_model(RandomForestClassifier(random_state = 0), x_train, y_train)"
   ]
  },
  {
   "cell_type": "code",
   "execution_count": 127,
   "id": "5e41188c-9f72-4693-80de-1e12ce58cbf7",
   "metadata": {
    "tags": []
   },
   "outputs": [
    {
     "data": {
      "text/plain": [
       "array([7])"
      ]
     },
     "execution_count": 127,
     "metadata": {},
     "output_type": "execute_result"
    }
   ],
   "source": [
    "model_0.predict(['i want to kill my self'])"
   ]
  },
  {
   "cell_type": "code",
   "execution_count": 128,
   "id": "9871619a-16e4-42dd-a518-030cea5a2019",
   "metadata": {
    "tags": []
   },
   "outputs": [],
   "source": [
    "y_pred=model_0.predict(x_test)"
   ]
  },
  {
   "cell_type": "code",
   "execution_count": 129,
   "id": "471a43b0-c768-4632-81ff-d0db92ba950c",
   "metadata": {
    "tags": []
   },
   "outputs": [
    {
     "name": "stdout",
     "output_type": "stream",
     "text": [
      "Accuracy:  0.373 \n",
      "\n"
     ]
    }
   ],
   "source": [
    "from sklearn.metrics import accuracy_score,confusion_matrix, classification_report\n",
    "model_0_accuracy = accuracy_score(y_test, y_pred)\n",
    "print('Accuracy: ', model_0_accuracy,'\\n')"
   ]
  },
  {
   "cell_type": "code",
   "execution_count": 130,
   "id": "3394d214-5f81-439d-877a-b60bb6a0b7f2",
   "metadata": {
    "tags": []
   },
   "outputs": [],
   "source": [
    "def get_F1(trained_model,X,y):\n",
    "    predicted=trained_model.predict(X)\n",
    "    f1=f1_score(y,predicted, average=None)\n",
    "    return f1"
   ]
  },
  {
   "cell_type": "code",
   "execution_count": 131,
   "id": "acfd87ba-29ec-43d5-b417-bd6f3ac5543f",
   "metadata": {
    "tags": []
   },
   "outputs": [
    {
     "data": {
      "text/html": [
       "<div>\n",
       "<style scoped>\n",
       "    .dataframe tbody tr th:only-of-type {\n",
       "        vertical-align: middle;\n",
       "    }\n",
       "\n",
       "    .dataframe tbody tr th {\n",
       "        vertical-align: top;\n",
       "    }\n",
       "\n",
       "    .dataframe thead th {\n",
       "        text-align: right;\n",
       "    }\n",
       "</style>\n",
       "<table border=\"1\" class=\"dataframe\">\n",
       "  <thead>\n",
       "    <tr style=\"text-align: right;\">\n",
       "      <th></th>\n",
       "      <th>F1 score</th>\n",
       "    </tr>\n",
       "  </thead>\n",
       "  <tbody>\n",
       "    <tr>\n",
       "      <th>happiness</th>\n",
       "      <td>0.405538</td>\n",
       "    </tr>\n",
       "    <tr>\n",
       "      <th>sadness</th>\n",
       "      <td>0.291866</td>\n",
       "    </tr>\n",
       "    <tr>\n",
       "      <th>surprise</th>\n",
       "      <td>0.424460</td>\n",
       "    </tr>\n",
       "    <tr>\n",
       "      <th>love</th>\n",
       "      <td>0.448535</td>\n",
       "    </tr>\n",
       "    <tr>\n",
       "      <th>neutral</th>\n",
       "      <td>0.035928</td>\n",
       "    </tr>\n",
       "    <tr>\n",
       "      <th>worry</th>\n",
       "      <td>0.259061</td>\n",
       "    </tr>\n",
       "    <tr>\n",
       "      <th>hate</th>\n",
       "      <td>0.045662</td>\n",
       "    </tr>\n",
       "    <tr>\n",
       "      <th>nuetral</th>\n",
       "      <td>0.350509</td>\n",
       "    </tr>\n",
       "  </tbody>\n",
       "</table>\n",
       "</div>"
      ],
      "text/plain": [
       "           F1 score\n",
       "happiness  0.405538\n",
       "sadness    0.291866\n",
       "surprise   0.424460\n",
       "love       0.448535\n",
       "neutral    0.035928\n",
       "worry      0.259061\n",
       "hate       0.045662\n",
       "nuetral    0.350509"
      ]
     },
     "execution_count": 131,
     "metadata": {},
     "output_type": "execute_result"
    }
   ],
   "source": [
    "from sklearn.metrics import f1_score\n",
    "f1_Score = get_F1(model_0,x_test,y_test)\n",
    "pd.DataFrame(f1_Score, index=df_train.sentiment.unique(), columns=['F1 score'])"
   ]
  },
  {
   "cell_type": "code",
   "execution_count": 132,
   "id": "bf195875-8296-4938-9aa5-42549a98ef35",
   "metadata": {
    "tags": []
   },
   "outputs": [],
   "source": [
    "from sklearn.naive_bayes import MultinomialNB\n",
    "\n",
    "model_0 = Pipeline([\n",
    "  (\"tf-idf\", TfidfVectorizer()),\n",
    "  (\"clf\", MultinomialNB())\n",
    "])"
   ]
  },
  {
   "cell_type": "code",
   "execution_count": 133,
   "id": "d6f467fb-d693-49eb-b70f-5939e2b67eba",
   "metadata": {
    "tags": []
   },
   "outputs": [
    {
     "data": {
      "text/html": [
       "<style>#sk-container-id-2 {color: black;}#sk-container-id-2 pre{padding: 0;}#sk-container-id-2 div.sk-toggleable {background-color: white;}#sk-container-id-2 label.sk-toggleable__label {cursor: pointer;display: block;width: 100%;margin-bottom: 0;padding: 0.3em;box-sizing: border-box;text-align: center;}#sk-container-id-2 label.sk-toggleable__label-arrow:before {content: \"▸\";float: left;margin-right: 0.25em;color: #696969;}#sk-container-id-2 label.sk-toggleable__label-arrow:hover:before {color: black;}#sk-container-id-2 div.sk-estimator:hover label.sk-toggleable__label-arrow:before {color: black;}#sk-container-id-2 div.sk-toggleable__content {max-height: 0;max-width: 0;overflow: hidden;text-align: left;background-color: #f0f8ff;}#sk-container-id-2 div.sk-toggleable__content pre {margin: 0.2em;color: black;border-radius: 0.25em;background-color: #f0f8ff;}#sk-container-id-2 input.sk-toggleable__control:checked~div.sk-toggleable__content {max-height: 200px;max-width: 100%;overflow: auto;}#sk-container-id-2 input.sk-toggleable__control:checked~label.sk-toggleable__label-arrow:before {content: \"▾\";}#sk-container-id-2 div.sk-estimator input.sk-toggleable__control:checked~label.sk-toggleable__label {background-color: #d4ebff;}#sk-container-id-2 div.sk-label input.sk-toggleable__control:checked~label.sk-toggleable__label {background-color: #d4ebff;}#sk-container-id-2 input.sk-hidden--visually {border: 0;clip: rect(1px 1px 1px 1px);clip: rect(1px, 1px, 1px, 1px);height: 1px;margin: -1px;overflow: hidden;padding: 0;position: absolute;width: 1px;}#sk-container-id-2 div.sk-estimator {font-family: monospace;background-color: #f0f8ff;border: 1px dotted black;border-radius: 0.25em;box-sizing: border-box;margin-bottom: 0.5em;}#sk-container-id-2 div.sk-estimator:hover {background-color: #d4ebff;}#sk-container-id-2 div.sk-parallel-item::after {content: \"\";width: 100%;border-bottom: 1px solid gray;flex-grow: 1;}#sk-container-id-2 div.sk-label:hover label.sk-toggleable__label {background-color: #d4ebff;}#sk-container-id-2 div.sk-serial::before {content: \"\";position: absolute;border-left: 1px solid gray;box-sizing: border-box;top: 0;bottom: 0;left: 50%;z-index: 0;}#sk-container-id-2 div.sk-serial {display: flex;flex-direction: column;align-items: center;background-color: white;padding-right: 0.2em;padding-left: 0.2em;position: relative;}#sk-container-id-2 div.sk-item {position: relative;z-index: 1;}#sk-container-id-2 div.sk-parallel {display: flex;align-items: stretch;justify-content: center;background-color: white;position: relative;}#sk-container-id-2 div.sk-item::before, #sk-container-id-2 div.sk-parallel-item::before {content: \"\";position: absolute;border-left: 1px solid gray;box-sizing: border-box;top: 0;bottom: 0;left: 50%;z-index: -1;}#sk-container-id-2 div.sk-parallel-item {display: flex;flex-direction: column;z-index: 1;position: relative;background-color: white;}#sk-container-id-2 div.sk-parallel-item:first-child::after {align-self: flex-end;width: 50%;}#sk-container-id-2 div.sk-parallel-item:last-child::after {align-self: flex-start;width: 50%;}#sk-container-id-2 div.sk-parallel-item:only-child::after {width: 0;}#sk-container-id-2 div.sk-dashed-wrapped {border: 1px dashed gray;margin: 0 0.4em 0.5em 0.4em;box-sizing: border-box;padding-bottom: 0.4em;background-color: white;}#sk-container-id-2 div.sk-label label {font-family: monospace;font-weight: bold;display: inline-block;line-height: 1.2em;}#sk-container-id-2 div.sk-label-container {text-align: center;}#sk-container-id-2 div.sk-container {/* jupyter's `normalize.less` sets `[hidden] { display: none; }` but bootstrap.min.css set `[hidden] { display: none !important; }` so we also need the `!important` here to be able to override the default hidden behavior on the sphinx rendered scikit-learn.org. See: https://github.com/scikit-learn/scikit-learn/issues/21755 */display: inline-block !important;position: relative;}#sk-container-id-2 div.sk-text-repr-fallback {display: none;}</style><div id=\"sk-container-id-2\" class=\"sk-top-container\"><div class=\"sk-text-repr-fallback\"><pre>Pipeline(steps=[(&#x27;tf-idf&#x27;, TfidfVectorizer()), (&#x27;clf&#x27;, MultinomialNB())])</pre><b>In a Jupyter environment, please rerun this cell to show the HTML representation or trust the notebook. <br />On GitHub, the HTML representation is unable to render, please try loading this page with nbviewer.org.</b></div><div class=\"sk-container\" hidden><div class=\"sk-item sk-dashed-wrapped\"><div class=\"sk-label-container\"><div class=\"sk-label sk-toggleable\"><input class=\"sk-toggleable__control sk-hidden--visually\" id=\"sk-estimator-id-4\" type=\"checkbox\" ><label for=\"sk-estimator-id-4\" class=\"sk-toggleable__label sk-toggleable__label-arrow\">Pipeline</label><div class=\"sk-toggleable__content\"><pre>Pipeline(steps=[(&#x27;tf-idf&#x27;, TfidfVectorizer()), (&#x27;clf&#x27;, MultinomialNB())])</pre></div></div></div><div class=\"sk-serial\"><div class=\"sk-item\"><div class=\"sk-estimator sk-toggleable\"><input class=\"sk-toggleable__control sk-hidden--visually\" id=\"sk-estimator-id-5\" type=\"checkbox\" ><label for=\"sk-estimator-id-5\" class=\"sk-toggleable__label sk-toggleable__label-arrow\">TfidfVectorizer</label><div class=\"sk-toggleable__content\"><pre>TfidfVectorizer()</pre></div></div></div><div class=\"sk-item\"><div class=\"sk-estimator sk-toggleable\"><input class=\"sk-toggleable__control sk-hidden--visually\" id=\"sk-estimator-id-6\" type=\"checkbox\" ><label for=\"sk-estimator-id-6\" class=\"sk-toggleable__label sk-toggleable__label-arrow\">MultinomialNB</label><div class=\"sk-toggleable__content\"><pre>MultinomialNB()</pre></div></div></div></div></div></div></div>"
      ],
      "text/plain": [
       "Pipeline(steps=[('tf-idf', TfidfVectorizer()), ('clf', MultinomialNB())])"
      ]
     },
     "execution_count": 133,
     "metadata": {},
     "output_type": "execute_result"
    }
   ],
   "source": [
    "model_0.fit(x_train,y_train)"
   ]
  },
  {
   "cell_type": "code",
   "execution_count": 134,
   "id": "1f0db694-784b-4dca-94ff-61e8d9ec8640",
   "metadata": {
    "tags": []
   },
   "outputs": [
    {
     "data": {
      "text/plain": [
       "0.569435736677116"
      ]
     },
     "execution_count": 134,
     "metadata": {},
     "output_type": "execute_result"
    }
   ],
   "source": [
    "model_0.score(x_train,y_train)"
   ]
  },
  {
   "cell_type": "markdown",
   "id": "e6447e25-0892-4bff-9f2f-b1450d2ff270",
   "metadata": {},
   "source": [
    "## Vectorization"
   ]
  },
  {
   "cell_type": "code",
   "execution_count": null,
   "id": "e154a5e0-cbc2-4fda-b889-c516fc40364d",
   "metadata": {},
   "outputs": [],
   "source": []
  }
 ],
 "metadata": {
  "kernelspec": {
   "display_name": "Python 3 (ipykernel)",
   "language": "python",
   "name": "python3"
  },
  "language_info": {
   "codemirror_mode": {
    "name": "ipython",
    "version": 3
   },
   "file_extension": ".py",
   "mimetype": "text/x-python",
   "name": "python",
   "nbconvert_exporter": "python",
   "pygments_lexer": "ipython3",
   "version": "3.9.17"
  }
 },
 "nbformat": 4,
 "nbformat_minor": 5
}
